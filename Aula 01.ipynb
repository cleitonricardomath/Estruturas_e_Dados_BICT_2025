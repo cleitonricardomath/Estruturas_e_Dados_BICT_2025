{
 "cells": [
  {
   "cell_type": "markdown",
   "id": "a731c03e",
   "metadata": {},
   "source": [
    "# Aula 01 - Uma introdução e revisão de estruturas de dados em Python\n",
    "\n",
    "Um **algoritmo** é uma sequência finita e __bem definida__ de instruções ou regras que, quando seguidas passo a passo, permitem resolver um problema ou realizar uma tarefa específica. É como uma receita que indica exatamente o que fazer para obter um determinado resultado.\n",
    "\n",
    "*É necessário examinar a eficiência dos algorítmos*\n",
    "\n",
    "Na implementação destas soluções (Algoritmo), nós precisamos armazenar e acessar dados.\n",
    "\n",
    "As **estruturas de dados** são formas organizadas de armazenar e gerenciar informações no computador. Cada estrutura possui características específicas quanto ao acesso, inserção e remoção de dados, o que as torna mais ou menos adequadas dependendo do problema a ser resolvido\n",
    "\n",
    "# Importância da disciplina\n",
    "\n",
    "1. Desenvolve o pensamento lógico e a capacidade de resolver problemas complexos;\n",
    "2. Ensina a escrever programas mais rápidos e otimizados;\n",
    "3. É essencial para aprovação em entrevistas técnicas de grandes empresas de tecnologia;\n",
    "4. Forma a base teórica para disciplinas avançadas, como Inteligência Artificial, Banco de Dados e Sistemas Operacionais;\n",
    "5. Prepara o aluno para construir sistemas reais, escaláveis e bem projetados."
   ]
  },
  {
   "cell_type": "markdown",
   "id": "bc94b6f7",
   "metadata": {},
   "source": [
    "# Python\n",
    "\n",
    "Python é uma linguagem de programação **interpretada**, interativa e ori,entada a objetos. Ela incorpora módulos, exceções, tipagem dinâmica, tipos de dados dinâmicos de altíssimo nível e classes. Ela suporta múltiplos paradigmas de programação além da programação orientada a objetos, como programação procedural e funcional. Python combina um poder notável com uma sintaxe muito clara. \n",
    "\n",
    "Um **interpretador** lê e executa o código linha a linha, sem precisar compilar (transformar em código de máquina) antes.\n",
    "\n",
    "Python permite organizar programas em classes e objetos , seguindo o paradigma da Programação Orientada a Objetos (POO) ."
   ]
  },
  {
   "cell_type": "code",
   "execution_count": 3,
   "id": "2715c587",
   "metadata": {},
   "outputs": [
    {
     "name": "stdout",
     "output_type": "stream",
     "text": [
      "Olá, sou eu, Maria e minha idade é 65\n"
     ]
    }
   ],
   "source": [
    "#exemplo de POO\n",
    "class Pessoa:\n",
    "    def __init__(self, nome, idade):\n",
    "        self.nome = nome\n",
    "        self.idade = idade\n",
    "\n",
    "    def saudar(self):\n",
    "        print(f\"Olá, sou eu, {self.nome} e minha idade é {self.idade}\")\n",
    "\n",
    "p = Pessoa(\"Maria\",\"65\")\n",
    "p.saudar()\n"
   ]
  },
  {
   "cell_type": "markdown",
   "id": "15432cce",
   "metadata": {},
   "source": [
    "# Revisão de Python\n",
    "\n",
    "1. Tipos de dados"
   ]
  },
  {
   "cell_type": "code",
   "execution_count": 1,
   "id": "f1b6b280",
   "metadata": {},
   "outputs": [
    {
     "name": "stdout",
     "output_type": "stream",
     "text": [
      "<class 'str'>\n",
      "<class 'int'>\n",
      "<class 'float'>\n",
      "<class 'bool'>\n"
     ]
    }
   ],
   "source": [
    "a=\"hello\"\n",
    "b=10\n",
    "c=10.2\n",
    "d=True\n",
    "print(type(a))\n",
    "print(type(b))\n",
    "print(type(c))\n",
    "print(type(d))\n"
   ]
  },
  {
   "cell_type": "markdown",
   "id": "2b08c9b7",
   "metadata": {},
   "source": [
    "2.Tipos numéricos\n",
    "3.Boleanos\n",
    "4.Sequências\n",
    "5.dicionários"
   ]
  },
  {
   "cell_type": "code",
   "execution_count": 5,
   "id": "2b5b9f36",
   "metadata": {},
   "outputs": [
    {
     "name": "stdout",
     "output_type": "stream",
     "text": [
      "True\n"
     ]
    },
    {
     "data": {
      "text/plain": [
       "False"
      ]
     },
     "execution_count": 5,
     "metadata": {},
     "output_type": "execute_result"
    }
   ],
   "source": [
    "e=True\n",
    "f=False\n",
    "print(e and not f)\n",
    "lista=[1, 2, \"IAGO\"]\n",
    "2 not in lista\n"
   ]
  },
  {
   "cell_type": "code",
   "execution_count": 10,
   "id": "ae26adae",
   "metadata": {},
   "outputs": [
    {
     "name": "stdout",
     "output_type": "stream",
     "text": [
      "Cleiton\n",
      "breno\n",
      "Cleitonbreno\n",
      "CleitonCleiton\n",
      "r\n",
      "7\n",
      "henrique\n"
     ]
    }
   ],
   "source": [
    "#string\n",
    "str1=\"Cleiton\"\n",
    "str2=\"breno\"\n",
    "print(str1)\n",
    "print(str2)\n",
    "print(str1+str2)\n",
    "print(2*str1)\n",
    "print(str2[1])\n",
    "print(len(str1))\n",
    "str3=input(\"Nome de um Aluno:\").lower()\n",
    "print(str3)"
   ]
  },
  {
   "cell_type": "code",
   "execution_count": 42,
   "id": "b82b5b09",
   "metadata": {},
   "outputs": [
    {
     "name": "stdout",
     "output_type": "stream",
     "text": [
      "[0, 1, 2, 3, 4, 5, 6, 7, 8, 9]\n",
      "[1, 3, 5, 7, 9]\n",
      "[20, 18, 16, 14, 12]\n"
     ]
    }
   ],
   "source": [
    "#Range\n",
    "print(list(range(10)))\n",
    "print(list(range(1,10,2)))\n",
    "print(list(range(20,10,-2)))"
   ]
  },
  {
   "cell_type": "code",
   "execution_count": 15,
   "id": "404d0b0a",
   "metadata": {},
   "outputs": [
    {
     "name": "stdout",
     "output_type": "stream",
     "text": [
      "['Heloisa', 10, True, 2.5]\n",
      "Heloisa\n",
      "['Heloisa', 2.5]\n",
      "[10, True, 2.5, 32]\n",
      "[120, True, 2.5, 32]\n",
      "[120, False, 3.5, 32]\n"
     ]
    },
    {
     "data": {
      "text/plain": [
       "True"
      ]
     },
     "execution_count": 15,
     "metadata": {},
     "output_type": "execute_result"
    }
   ],
   "source": [
    "#listas\n",
    "g=[\"Heloisa\", 10, True, 2.5]\n",
    "print(g)\n",
    "print(g[0])\n",
    "h=[10, \"Heloisa\", 2.5, True]\n",
    "print(h[1:3])\n",
    "g +=[32]\n",
    "del g[0]\n",
    "print(g)\n",
    "g[0]=120\n",
    "print(g)\n",
    "g[1:3]=[False, 3.5]\n",
    "print(g)\n",
    "True not in g\n"
   ]
  },
  {
   "cell_type": "code",
   "execution_count": 19,
   "id": "00f23608",
   "metadata": {},
   "outputs": [
    {
     "name": "stdout",
     "output_type": "stream",
     "text": [
      "('Pedro', 'Guilherme')\n",
      "2\n",
      "('Pedro', 'Guilherme', 'Tawane', 'Natália')\n"
     ]
    }
   ],
   "source": [
    "#tupla\n",
    "l = (\"Pedro\", \"Guilherme\")\n",
    "k = (\"Tawane\", \"Natália\")\n",
    "print(l)\n",
    "\"Pedro\" in l\n",
    "print(len(l))\n",
    "print(l+k)"
   ]
  },
  {
   "cell_type": "code",
   "execution_count": 42,
   "id": "a446ac80",
   "metadata": {},
   "outputs": [
    {
     "name": "stdout",
     "output_type": "stream",
     "text": [
      "{'Cauã': '999541676', 'Cleiton': '988356909'}\n",
      "999541676\n",
      "{'Cauã': '000000000', 'Cleiton': '988356909'}\n",
      "2\n",
      "{'Cauã': '000000000', 'Cleiton': '988356909'}\n",
      "988356909\n",
      "[('Cauã', '000000000'), ('Cleiton', '988356909')]\n",
      "['Cauã', 'Cleiton']\n",
      "['000000000', '988356909']\n",
      "{'Cleiton': '988356909'}\n",
      "None\n",
      "{'Cleiton': '988356909', 'Cauã': '999541676', 'Iago': '989560788'}\n"
     ]
    }
   ],
   "source": [
    "#Dicionários\n",
    "m = {\"Cauã\":\"999541676\", \"Cleiton\":\"988356909\"}\n",
    "print(m)\n",
    "print(m[\"Cauã\"])\n",
    "m[\"Cauã\"]=\"000000000\"\n",
    "print(m)\n",
    "\"Cleiton\" in m\n",
    "print(len(m))\n",
    "\n",
    "print(m)\n",
    "print(m.get(\"Cleiton\"))\n",
    "print(list(m.items()))\n",
    "print(list(m.keys()))\n",
    "print(list(m.values()))\n",
    "m.pop(\"Cauã\")\n",
    "print(m)\n",
    "n = {\"Cauã\":\"999541676\", \"Cleiton\":\"988356909\", \"Iago\":\"989560788\"}\n",
    "print(m.update(n))\n",
    "print(m)\n"
   ]
  },
  {
   "cell_type": "code",
   "execution_count": null,
   "id": "c17b58df",
   "metadata": {},
   "outputs": [
    {
     "name": "stdout",
     "output_type": "stream",
     "text": [
      "{'Breno', 'Iago', 'Camylle'}\n",
      "{'Iago', 'Breno', 'Camylle'}\n",
      "{'Breno'}\n",
      "{'Iago', 'Heloisa', 'Breno', 'Camylle', 'Alex', 'Evellyn'}\n",
      "{'Iago', 'Camylle'}\n"
     ]
    }
   ],
   "source": [
    "#Conjuntos\n",
    "p = set([\"Iago\", \"Camylle\", \"Camylle\", \"Breno\"])\n",
    "print(p)\n",
    "q = set([\"Breno\", \"Camylle\", \"Iago\"])\n",
    "print(q)\n",
    "p == q\n",
    "r = set([\"Breno\",\"Heloisa\", \"Alex\", \"Evellyn\"])\n",
    "print(p.intersection(r))\n",
    "print(p.union(r))\n",
    "print(p.difference(r)) #p-r"
   ]
  },
  {
   "cell_type": "markdown",
   "id": "1be74431",
   "metadata": {},
   "source": [
    "Estruturas condicionais"
   ]
  },
  {
   "cell_type": "code",
   "execution_count": 56,
   "id": "090daae4",
   "metadata": {},
   "outputs": [
    {
     "name": "stdout",
     "output_type": "stream",
     "text": [
      "{'Breno', 'Iago', 'Camylle'}\n"
     ]
    }
   ],
   "source": [
    "if \"Breno\" in p:\n",
    "    print(p)\n",
    "else: print(r)"
   ]
  },
  {
   "cell_type": "markdown",
   "id": "e2f39226",
   "metadata": {},
   "source": [
    "Estrutura de Loop"
   ]
  },
  {
   "cell_type": "code",
   "execution_count": 65,
   "id": "0606cd85",
   "metadata": {},
   "outputs": [
    {
     "name": "stdout",
     "output_type": "stream",
     "text": [
      "0\n",
      "1\n",
      "2\n",
      "3\n",
      "4\n",
      "6\n",
      "7\n",
      "8\n",
      "9\n",
      "loop concluído\n",
      "0\n",
      "1\n",
      "2\n",
      "3\n",
      "4\n"
     ]
    }
   ],
   "source": [
    "#for\n",
    "for nome in range(10):\n",
    "    if nome == 5:\n",
    "        continue\n",
    "    print(nome)\n",
    "else: print(\"loop concluído\")\n",
    "\n",
    "#while\n",
    "cont = 0\n",
    "while cont < 5:\n",
    "    print(cont)\n",
    "    cont += 1\n"
   ]
  }
 ],
 "metadata": {
  "kernelspec": {
   "display_name": "3.13.3",
   "language": "python",
   "name": "python3"
  },
  "language_info": {
   "codemirror_mode": {
    "name": "ipython",
    "version": 3
   },
   "file_extension": ".py",
   "mimetype": "text/x-python",
   "name": "python",
   "nbconvert_exporter": "python",
   "pygments_lexer": "ipython3",
   "version": "3.13.3"
  }
 },
 "nbformat": 4,
 "nbformat_minor": 5
}
