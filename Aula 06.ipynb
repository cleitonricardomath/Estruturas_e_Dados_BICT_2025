{
 "cells": [
  {
   "cell_type": "markdown",
   "id": "1f816fae",
   "metadata": {},
   "source": [
    "## Aula 06: Estrutura de Dados - Pilhas (Stacks)\n",
    "\n",
    "**Objetivo:** Compreender o conceito da estrutura de dados Pilha (Stack), suas operações fundamentais (Push, Pop, Peek) e suas implementações usando arrays e listas encadeadas em Python.\n",
    "\n",
    "### **Parte 1: O que é uma Pilha?\n",
    "\n",
    "Uma pilha é uma estrutura de dados linear que armazena itens de forma sequencial, com uma restrição importante sobre como os dados são manipulados. A melhor analogia é uma **pilha de pratos**. Você só pode adicionar um prato no topo da pilha e, quando precisa de um, só pode remover o prato que está no topo.\n",
    "\n",
    "Essa característica define o princípio fundamental de uma pilha: **LIFO (Last-In, First-Out)**, ou \"o último a entrar é o primeiro a sair\". \n",
    "\n",
    "#### **Operações Fundamentais**\n",
    "\n",
    "Uma pilha possui três operações primárias: \n",
    "\n",
    "1.  **Push (Empilhar):** Adiciona um novo elemento no topo da pilha. \n",
    "2.  **Pop (Desempilhar):** Remove e retorna o elemento que está no topo da pilha. \n",
    "3.  **Peek (Espiar):** Retorna o valor do elemento do topo sem removê-lo. \n",
    "\n",
    "| Operação na Pilha | Tamanho | Conteúdo | Resultado da Operação |\n",
    "| :--- | :--- | :--- | :--- |\n",
    "| `pilha()` | 0 | `[]` | Objeto Pilha vazio é criado.  |\n",
    "| `push(\"ovo\")` | 1 | `['ovo']` | Um item \"ovo\" é adicionado à pilha.  |\n",
    "| `push(\"presunto\")`| 2 | `['ovo', 'presunto']`| Mais um item, \"presunto\", é adicionado.  |\n",
    "| `peek()` | 2 | `['ovo', 'presunto']`| O elemento do topo, \"presunto\", é retornado.  |\n",
    "| `pop()` | 1 | `['ovo']` | O item \"presunto\" é desempilhado e retornado (último a entrar, primeiro a sair).  |\n",
    "| `pop()` | 0 | `[]` | O item \"ovo\" é desempilhado e retornado.  |\n",
    "\n",
    "*Tabela baseada na Tabela 5.1 do livro. *\n",
    "\n",
    "### **Parte 2: Implementação de Pilha com Arrays**\n",
    "\n",
    "Uma maneira de implementar uma pilha é usando um array (ou uma lista em Python) de tamanho fixo. \n",
    "\n",
    "Nessa abordagem, precisamos de um ponteiro, geralmente chamado `topo` (*top*), para rastrear o índice do último elemento adicionado. \n",
    "\n",
    "**Conceitos Importantes:**\n",
    "* **Stack Overflow (Estouro da Pilha):** Ocorre quando tentamos adicionar (`push`) um elemento a uma pilha que já está cheia. \n",
    "* **Stack Underflow (Esvaziamento da Pilha):** Ocorre quando tentamos remover (`pop`) um elemento de uma pilha que já está vazia. \n",
    "\n",
    "#### **1. Classe e Operação `push`**\n",
    "\n",
    "Vamos criar o código para nossa pilha baseada em array.\n",
    "\n"
   ]
  },
  {
   "cell_type": "code",
   "execution_count": 1,
   "id": "c258e0d4",
   "metadata": {},
   "outputs": [],
   "source": [
    "# Definindo a estrutura inicial da nossa pilha com array\n",
    "tamanho_maximo = 5\n",
    "pilha_array = [0] * tamanho_maximo  # Inicializa a pilha com zeros\n",
    "topo = -1  # -1 indica que a pilha está vazia\n",
    "\n",
    "def push(dado):\n",
    "    \"\"\"Adiciona um item ao topo da pilha.\"\"\"\n",
    "    global topo\n",
    "    if topo >= tamanho_maximo - 1:\n",
    "        print(\"Erro: Estouro da Pilha (Stack Overflow)\")\n",
    "    else:\n",
    "        topo = topo + 1\n",
    "        pilha_array[topo] = dado\n",
    "        print(f\"Item '{dado}' adicionado. Pilha: {pilha_array[0 : topo + 1]}\")"
   ]
  },
  {
   "cell_type": "code",
   "execution_count": 19,
   "id": "bf5e0db5",
   "metadata": {},
   "outputs": [
    {
     "name": "stdout",
     "output_type": "stream",
     "text": [
      "Item 'tomate' adicionado. Pilha: ['pão', 'queijo', 'presunto', 'quitute', 'tomate']\n"
     ]
    }
   ],
   "source": [
    "# Testando a operação de push\n",
    "push('tomate')\n"
   ]
  },
  {
   "cell_type": "markdown",
   "id": "241fb4fd",
   "metadata": {},
   "source": [
    "#### **2. Operação `pop` e `peek`**\n",
    "\n",
    "A operação `pop` remove o elemento do topo. \n"
   ]
  },
  {
   "cell_type": "code",
   "execution_count": 8,
   "id": "51752809",
   "metadata": {},
   "outputs": [],
   "source": [
    "def pop():\n",
    "    \"\"\"Remove e retorna o item do topo da pilha.\"\"\"\n",
    "    global topo\n",
    "    if topo == -1:\n",
    "        print(\"Erro: Esvaziamento da Pilha (Stack Underflow)\")\n",
    "        return None\n",
    "    else:\n",
    "        item_removido = pilha_array[topo]\n",
    "        pilha_array[topo] = 0 # Opcional: limpa a posição\n",
    "        topo = topo - 1\n",
    "        print(f\"Item '{item_removido}' removido. Pilha: {pilha_array[0 : topo + 1]}\")\n",
    "        return item_removido"
   ]
  },
  {
   "cell_type": "code",
   "execution_count": 30,
   "id": "1d42d83d",
   "metadata": {},
   "outputs": [
    {
     "name": "stdout",
     "output_type": "stream",
     "text": [
      "Item 'alface' removido. Pilha: ['pão', 'queijo', 'presunto']\n"
     ]
    },
    {
     "data": {
      "text/plain": [
       "'alface'"
      ]
     },
     "execution_count": 30,
     "metadata": {},
     "output_type": "execute_result"
    }
   ],
   "source": [
    "pop()"
   ]
  },
  {
   "cell_type": "code",
   "execution_count": 20,
   "id": "18732cc7",
   "metadata": {},
   "outputs": [],
   "source": [
    "def peek():\n",
    "    \"\"\"Retorna o item do topo sem remover.\"\"\"\n",
    "    global topo\n",
    "    if topo == -1:\n",
    "        print(\"Pilha está vazia.\")\n",
    "        return None\n",
    "    else:\n",
    "        print(f\"Item no topo: {pilha_array[topo]}\")\n",
    "        return pilha_array[topo]"
   ]
  },
  {
   "cell_type": "code",
   "execution_count": 24,
   "id": "27d878f9",
   "metadata": {},
   "outputs": [
    {
     "name": "stdout",
     "output_type": "stream",
     "text": [
      "Item 'alface' adicionado. Pilha: ['pão', 'queijo', 'presunto', 'alface']\n"
     ]
    }
   ],
   "source": [
    "# Testando as operações\n",
    "push('alface')\n"
   ]
  },
  {
   "cell_type": "markdown",
   "id": "5ca85739",
   "metadata": {},
   "source": [
    "**Limitação:** A principal desvantagem dessa abordagem é o tamanho fixo, que não é ideal para aplicações onde a quantidade de dados é imprevisível. \n",
    "\n",
    "### **Parte 3: Implementação de Pilha com Listas Encadeadas**\n",
    "\n",
    "Para superar a limitação do tamanho fixo, podemos usar uma **lista encadeada**.  Essa implementação permite que a pilha cresça e diminua dinamicamente.\n",
    "\n",
    "Usaremos uma estrutura de `No` (Node) e uma classe `Pilha` que gerencia os nós.\n"
   ]
  },
  {
   "cell_type": "code",
   "execution_count": 35,
   "id": "b0013e95",
   "metadata": {},
   "outputs": [],
   "source": [
    "class No:\n",
    "    \"\"\"Representa um nó em uma lista encadeada (ou pilha).\"\"\"\n",
    "    def __init__(self, dado=None):\n",
    "        self.dado = dado\n",
    "        self.next = None\n",
    "\n",
    "class Pilha:\n",
    "    \"\"\"Implementação de uma Pilha usando lista encadeada.\"\"\"\n",
    "    def __init__(self):\n",
    "        self.topo = None  # Aponta para o nó do topo da pilha \n",
    "        self.tamanho = 0  # Mantém o controle do tamanho\n",
    "\n",
    "    def __iter__(self):\n",
    "        \"\"\"Permite iterar sobre a pilha.\"\"\"\n",
    "        no_atual = self.topo\n",
    "        while no_atual:\n",
    "            yield no_atual.dado\n",
    "            no_atual = no_atual.next\n",
    "    def push(self, dado):\n",
    "        \"\"\"Adiciona um item ao topo da pilha.\"\"\"\n",
    "        novo_no = No(dado)\n",
    "        if self.topo:\n",
    "            novo_no.next = self.topo\n",
    "        self.topo = novo_no\n",
    "        self.tamanho += 1\n",
    "    def pop(self):\n",
    "        \"\"\"Remove e retorna o item do topo da pilha.\"\"\"\n",
    "        if self.topo is None:\n",
    "            print(\"Pilha está vazia.\")\n",
    "            return None\n",
    "        \n",
    "        item_removido = self.topo.dado\n",
    "        self.topo = self.topo.next\n",
    "        self.tamanho -= 1\n",
    "        return item_removido\n",
    "    def peek(self):\n",
    "        \"\"\"Retorna o item do topo sem remover.\"\"\"\n",
    "        if self.topo is None:\n",
    "            print(\"Pilha está vazia.\")\n",
    "            return None\n",
    "        return self.topo.dado"
   ]
  },
  {
   "cell_type": "markdown",
   "id": "f1b30a82",
   "metadata": {},
   "source": [
    "\n",
    "#### **1. Operação `push`**\n",
    "\n",
    "Para adicionar um item, criamos um novo nó. O ponteiro `next` desse novo nó apontará para o antigo topo da pilha, e o ponteiro `topo` da pilha será atualizado para apontar para este novo nó.\n",
    "\n",
    "*Vejamos a Figura 5.7: Funcionamento da operação push.*"
   ]
  },
  {
   "cell_type": "code",
   "execution_count": null,
   "id": "3f6a0276",
   "metadata": {},
   "outputs": [],
   "source": [
    "# Adicionar este método dentro da classe Pilha\n",
    "def push(self, dado):\n",
    "    \"\"\"Adiciona um item ao topo da pilha.\"\"\"\n",
    "    novo_no = No(dado)\n",
    "    if self.topo:\n",
    "        novo_no.next = self.topo\n",
    "    self.topo = novo_no\n",
    "    self.tamanho += 1"
   ]
  },
  {
   "cell_type": "code",
   "execution_count": 37,
   "id": "0d2a9089",
   "metadata": {},
   "outputs": [],
   "source": [
    "minha_pilha = Pilha()\n"
   ]
  },
  {
   "cell_type": "code",
   "execution_count": 38,
   "id": "80337d28",
   "metadata": {},
   "outputs": [],
   "source": [
    "minha_pilha.push(\"Livro 1\")\n",
    "minha_pilha.push(\"Livro 2\")\n",
    "minha_pilha.push(\"Livro 3\")"
   ]
  },
  {
   "cell_type": "code",
   "execution_count": 39,
   "id": "2b2ccff8",
   "metadata": {},
   "outputs": [
    {
     "name": "stdout",
     "output_type": "stream",
     "text": [
      "Pilha atual:\n",
      "Livro 3\n",
      "Livro 2\n",
      "Livro 1\n"
     ]
    }
   ],
   "source": [
    "print(\"Pilha atual:\")\n",
    "for item in minha_pilha:\n",
    "    print(item)"
   ]
  },
  {
   "cell_type": "markdown",
   "id": "17fca437",
   "metadata": {},
   "source": [
    "\n",
    "#### **2. Operações `pop` e `peek`**\n",
    "\n",
    "Para remover um item, simplesmente movemos o ponteiro `topo` para o próximo elemento da lista (`self.topo.next`).\n",
    "\n",
    "*Baseado na Figura 5.9: Funcionamento da operação pop.*\n"
   ]
  },
  {
   "cell_type": "code",
   "execution_count": null,
   "id": "0fc35e41",
   "metadata": {},
   "outputs": [],
   "source": [
    "# Adicionar estes métodos dentro da classe Pilha\n",
    "def pop(self):\n",
    "    \"\"\"Remove e retorna o item do topo da pilha.\"\"\"\n",
    "    if self.topo is None:\n",
    "        print(\"Pilha está vazia.\")\n",
    "        return None\n",
    "    \n",
    "    item_removido = self.topo.dado\n",
    "    self.topo = self.topo.next\n",
    "    self.tamanho -= 1\n",
    "    return item_removido\n",
    "\n",
    "def peek(self):\n",
    "    \"\"\"Retorna o item do topo sem remover.\"\"\"\n",
    "    if self.topo is None:\n",
    "        print(\"Pilha está vazia.\")\n",
    "        return None\n",
    "    return self.topo.dado"
   ]
  },
  {
   "cell_type": "code",
   "execution_count": 46,
   "id": "0fbdb5fe",
   "metadata": {},
   "outputs": [
    {
     "name": "stdout",
     "output_type": "stream",
     "text": [
      "Espiando o topo: Livro 2\n",
      "Desempilhando: Livro 2\n",
      "Novo topo: Livro 1\n",
      "Tamanho da pilha: 1\n",
      "Pilha atual:\n",
      "Livro 1\n"
     ]
    }
   ],
   "source": [
    "# Testando a Pilha com Lista Encadeada\n",
    "\n",
    "print(f\"Espiando o topo: {minha_pilha.peek()}\")\n",
    "print(f\"Desempilhando: {minha_pilha.pop()}\")\n",
    "print(f\"Novo topo: {minha_pilha.peek()}\")\n",
    "print(f\"Tamanho da pilha: {minha_pilha.tamanho}\")\n",
    "\n",
    "print(\"Pilha atual:\")\n",
    "for item in minha_pilha:\n",
    "    print(item)\n"
   ]
  },
  {
   "cell_type": "markdown",
   "id": "943298df",
   "metadata": {},
   "source": [
    "**Vantagem:** A complexidade de tempo para as operações `push`, `pop` e `peek` é **O(1)**, pois todas envolvem apenas a manipulação do nó do topo, sem a necessidade de percorrer a lista.\n",
    "\n",
    "\n",
    "### **Exercícios da Aula 1**\n",
    "\n",
    "1.  **Verificador de Parênteses:** Usando a classe `Pilha` que você implementou, crie uma função que receba uma string contendo parênteses `()`, colchetes `[]` e chaves `{}` e retorne `True` se a sequência de caracteres estiver balanceada, e `False` caso contrário.\n",
    "\n",
    "      * Exemplo: `\"{[()]}\"` -\\> `True`\n",
    "      * Exemplo: `\"{[(])}\"` -\\> `False`\n",
    "      * Exemplo: `\"{{{\"` -\\> `False`\n"
   ]
  },
  {
   "cell_type": "code",
   "execution_count": 48,
   "id": "957335a8",
   "metadata": {},
   "outputs": [],
   "source": [
    "def balanceamento_expressao(expressao):\n",
    "    \"\"\"Verifica se os parênteses, chaves e colchetes na expressão estão balanceados.\"\"\"\n",
    "    pilha_parenteses = Pilha()\n",
    "    \n",
    "    for char in expressao:\n",
    "        if char in ('(', '{', '['):\n",
    "            pilha_parenteses.push(char)\n",
    "        \n",
    "        if char in (')', '}', ']'):\n",
    "            ultimo_aberto = pilha_parenteses.pop()\n",
    "            if ultimo_aberto is None:\n",
    "                return False\n",
    "            if (char == ')' and ultimo_aberto =='('):\n",
    "                continue\n",
    "            elif (char == '}' and ultimo_aberto == '{'):\n",
    "                continue\n",
    "            elif (char == ']' and ultimo_aberto == '['):\n",
    "                continue\n",
    "            else:\n",
    "                return False\n",
    "    if pilha_parenteses.tamanho > 0:\n",
    "        return False\n",
    "    return True"
   ]
  },
  {
   "cell_type": "code",
   "execution_count": 54,
   "id": "3cd34322",
   "metadata": {},
   "outputs": [
    {
     "data": {
      "text/plain": [
       "True"
      ]
     },
     "execution_count": 54,
     "metadata": {},
     "output_type": "execute_result"
    }
   ],
   "source": [
    "balanceamento_expressao(\"{[(dd)]}\")  # Deve retornar True"
   ]
  },
  {
   "cell_type": "markdown",
   "id": "42fdac5f",
   "metadata": {},
   "source": [
    "\n",
    "2.  **Inverter uma String:** Escreva uma função que use uma pilha para inverter uma string. A função deve usar `push` para cada caractere da string e depois `pop` para formar a string invertida.\n",
    "\n",
    "3.  Qual é a principal desvantagem da implementação de uma pilha usando um array de tamanho fixo? Como a implementação com lista encadeada resolve isso? "
   ]
  },
  {
   "cell_type": "markdown",
   "id": "0f378386",
   "metadata": {},
   "source": [
    "### Aplicações de Pilhas**\n",
    "\n",
    "Pilhas são essenciais em computação. Além do exercício de balanceamento de parênteses, elas são usadas para:\n",
    "* **Gerenciamento de Chamadas de Funções:** O sistema operacional usa uma \"pilha de chamadas\" para controlar a execução de funções. Quando uma função `A` chama uma função `B`, `B` é empilhada sobre `A`. Quando `B` termina, ela é desempilhada, e o controle volta para `A`. \n",
    "* **Função Desfazer (Undo):** Editores de texto e software de imagem usam uma pilha para armazenar as ações do usuário. Clicar em \"desfazer\" simplesmente executa um `pop` na pilha e reverte a ação. \n",
    "* **Navegadores Web:** O histórico de \"voltar\" de um navegador funciona como uma pilha de páginas visitadas. "
   ]
  },
  {
   "cell_type": "markdown",
   "id": "65aea823",
   "metadata": {},
   "source": []
  }
 ],
 "metadata": {
  "kernelspec": {
   "display_name": "3.13.3",
   "language": "python",
   "name": "python3"
  },
  "language_info": {
   "codemirror_mode": {
    "name": "ipython",
    "version": 3
   },
   "file_extension": ".py",
   "mimetype": "text/x-python",
   "name": "python",
   "nbconvert_exporter": "python",
   "pygments_lexer": "ipython3",
   "version": "3.13.3"
  }
 },
 "nbformat": 4,
 "nbformat_minor": 5
}
