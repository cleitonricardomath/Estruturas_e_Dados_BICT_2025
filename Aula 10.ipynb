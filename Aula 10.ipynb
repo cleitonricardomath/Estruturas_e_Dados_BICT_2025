{
 "cells": [
  {
   "cell_type": "markdown",
   "id": "9a0dc597",
   "metadata": {},
   "source": [
    "# Aula 10: Heaps e Filas de Prioridade\n",
    "\n",
    "**Objetivo:** Compreender a estrutura de dados Heap, suas propriedades e operações fundamentais. Aprender a implementar um Heap e utilizá-lo para construir duas aplicações poderosas: o algoritmo de ordenação Heap Sort e uma Fila de Prioridade eficiente.\n",
    "\n",
    "---\n",
    "### **Parte 1: O que é um Heap?**\n",
    "\n",
    "Um **Heap** é uma estrutura de dados especializada baseada em árvore que satisfaz a \"propriedade do heap\".  Embora seja uma árvore conceitualmente, a forma mais comum e eficiente de implementá-la é usando um **array** (ou lista Python).\n",
    "\n",
    "#### **A Propriedade do Heap**\n",
    "\n",
    "Existem dois tipos principais de Heaps, definidos pela relação entre um nó pai e seus filhos:\n",
    "\n",
    "1.  **Max-Heap (Heap Máximo):** O valor de qualquer nó pai é **maior ou igual** ao valor de seus filhos. Isso garante que o maior elemento da coleção esteja sempre na raiz da árvore. \n",
    "\n",
    "    *Veja a Figura 7.1 do livro.*\n",
    "\n",
    "2.  **Min-Heap (Heap Mínimo):** O valor de qualquer nó pai é **menor ou igual** ao valor de seus filhos. Isso garante que o menor elemento esteja sempre na raiz. \n",
    "    \n",
    "    *Veja a Figura 7.2 do livro.*\n",
    "\n",
    "*(Nesta aula, focaremos na implementação do **Min-Heap**. A lógica para o Max-Heap é a mesma, apenas invertendo as comparações.)*\n",
    "\n",
    "#### **Implementação com Array**\n",
    "\n",
    "Um heap é sempre uma **árvore binária completa**.  Essa propriedade nos permite representá-lo eficientemente em um array, usando uma relação matemática simples entre os índices de pais e filhos:\n",
    "* Para um nó no índice `k`:\n",
    "    * Seu filho da esquerda está no índice `2 * k`.\n",
    "    * Seu filho da direita está no índice `2 * k + 1`.\n",
    "    * Seu pai está no índice `k // 2` (divisão inteira). \n",
    "\n",
    "Para que essa matemática funcione, **começamos a preencher o array a partir do índice 1**. O índice 0 é geralmente ignorado ou preenchido com um valor nulo.\n",
    "*Veja a Figura 7.4 do livro.*\n"
   ]
  },
  {
   "cell_type": "code",
   "execution_count": 1,
   "id": "3639fd44",
   "metadata": {},
   "outputs": [],
   "source": [
    "class HeapMinimo:\n",
    "    def __init__(self):\n",
    "        # O índice 0 é um valor sentinela para facilitar os cálculos\n",
    "        self.heap = [0] \n",
    "        self.tamanho_atual = 0\n",
    "    def _percolar_para_cima(self, k):\n",
    "        \"\"\"Move um nó para cima na árvore para manter a propriedade do heap.\"\"\"\n",
    "        # O loop continua enquanto o nó não for a raiz (k > 1) e seu valor for menor que o do seu pai.\n",
    "        while k // 2 > 0:\n",
    "            if self.heap[k] < self.heap[k // 2]:\n",
    "                # Troca o nó com seu pai\n",
    "                self.heap[k], self.heap[k // 2] = self.heap[k // 2], self.heap[k]\n",
    "            k = k // 2 # Move o índice para a posição do pai para continuar a verificação\n",
    "    def insert(self, item):\n",
    "        \"\"\"Adiciona um novo item ao heap.\"\"\"\n",
    "        self.heap.append(item)\n",
    "        self.tamanho_atual += 1\n",
    "        self._percolar_para_cima(self.tamanho_atual) # Inicia a percolação a partir do novo item\n",
    "    def _get_filho_min(self, k):\n",
    "        \"\"\"Retorna o índice do menor filho de um nó.\"\"\"\n",
    "        # Se não há filho direito, o esquerdo é o único candidato\n",
    "        if (k * 2 + 1) > self.tamanho_atual:\n",
    "            return k * 2\n",
    "        else:\n",
    "            # Compara os dois filhos e retorna o índice do menor\n",
    "            if self.heap[k * 2] < self.heap[k * 2 + 1]:\n",
    "                return k * 2\n",
    "            else:\n",
    "                return k * 2 + 1\n",
    "    def _percolar_para_baixo(self, k):\n",
    "        \"\"\"Move um nó para baixo na árvore para manter a propriedade do heap.\"\"\"\n",
    "        while (k * 2) <= self.tamanho_atual:\n",
    "            filho_min_idx = self._get_filho_min(k)\n",
    "            if self.heap[k] > self.heap[filho_min_idx]:\n",
    "                # Troca o nó com seu menor filho\n",
    "                self.heap[k], self.heap[filho_min_idx] = self.heap[filho_min_idx], self.heap[k]\n",
    "            k = filho_min_idx # Move o índice para a posição do filho para continuar\n",
    "    def delete_min(self):\n",
    "        \"\"\"Remove e retorna o item mínimo do heap (a raiz).\"\"\"\n",
    "        if self.tamanho_atual == 0:\n",
    "            return None\n",
    "         \n",
    "        item_removido = self.heap[1]\n",
    "        # Move o último item para a raiz\n",
    "        self.heap[1] = self.heap[self.tamanho_atual]\n",
    "        self.tamanho_atual -= 1\n",
    "        self.heap.pop() # Remove o último item duplicado\n",
    "        self._percolar_para_baixo(1) # Inicia a percolação a partir da raiz\n",
    "        return item_removido\n",
    "    "
   ]
  },
  {
   "cell_type": "markdown",
   "id": "f60bf3b4",
   "metadata": {},
   "source": [
    "### **Parte 2: Operações Fundamentais do Heap**\n",
    "\n",
    "Para manter a propriedade do heap, as operações de inserção e deleção exigem um processo de reorganização chamado **heapifying**.\n",
    "\n",
    "#### **1. Operação `insert` (Inserir)**\n",
    "\n",
    "A inserção de um novo item ocorre em dois passos:\n",
    "\n",
    "1.  Adicione o novo elemento no final do array (que corresponde ao próximo local livre na árvore). \n",
    "2.  Restaure a propriedade do heap \"percolando para cima\" (*percolate up*). O novo nó é comparado com seu pai; se for menor, eles trocam de lugar. O processo continua até que o nó encontre sua posição correta ou chegue à raiz. \n"
   ]
  },
  {
   "cell_type": "code",
   "execution_count": null,
   "id": "2aea69b6",
   "metadata": {},
   "outputs": [],
   "source": [
    "# Adicionar estes métodos dentro da classe HeapMinimo\n",
    "\n",
    "def _percolar_para_cima(self, k):\n",
    "    \"\"\"Move um nó para cima na árvore para manter a propriedade do heap.\"\"\"\n",
    "    # O loop continua enquanto o nó não for a raiz (k > 1) e seu valor for menor que o do seu pai.\n",
    "    while k // 2 > 0:\n",
    "        if self.heap[k] < self.heap[k // 2]:\n",
    "            # Troca o nó com seu pai\n",
    "            self.heap[k], self.heap[k // 2] = self.heap[k // 2], self.heap[k]\n",
    "        k = k // 2 # Move o índice para a posição do pai para continuar a verificação\n",
    "\n",
    "def insert(self, item):\n",
    "    \"\"\"Adiciona um novo item ao heap.\"\"\"\n",
    "    self.heap.append(item)\n",
    "    self.tamanho_atual += 1\n",
    "    self._percolar_para_cima(self.tamanho_atual) # Inicia a percolação a partir do novo item"
   ]
  },
  {
   "cell_type": "markdown",
   "id": "07a5454c",
   "metadata": {},
   "source": [
    "#### **2. Operação `delete` (Remover o Mínimo)**\n",
    "\n",
    "A operação de deleção mais comum em um Min-Heap é a remoção do elemento mínimo, que está sempre na raiz.\n",
    "\n",
    "1.  Guarde o valor da raiz (o elemento mínimo) para retorná-lo.\n",
    "2.  Pegue o último elemento do heap e coloque-o na posição da raiz. \n",
    "3.  Restaure a propriedade do heap \"percolando para baixo\" (*percolate down*). O novo nó raiz é comparado com seus filhos. Se for maior que o menor de seus filhos, eles trocam de lugar. O processo continua até que o nó encontre sua posição correta. "
   ]
  },
  {
   "cell_type": "code",
   "execution_count": null,
   "id": "d5b707cf",
   "metadata": {},
   "outputs": [],
   "source": [
    "# Adicionar estes métodos dentro da classe HeapMinimo\n",
    "\n",
    "def _get_filho_min(self, k):\n",
    "    \"\"\"Retorna o índice do menor filho de um nó.\"\"\"\n",
    "    # Se não há filho direito, o esquerdo é o único candidato\n",
    "    if (k * 2 + 1) > self.tamanho_atual:\n",
    "        return k * 2\n",
    "    else:\n",
    "        # Compara os dois filhos e retorna o índice do menor\n",
    "        if self.heap[k * 2] < self.heap[k * 2 + 1]:\n",
    "            return k * 2\n",
    "        else:\n",
    "            return k * 2 + 1\n",
    "\n",
    "def _percolar_para_baixo(self, k):\n",
    "    \"\"\"Move um nó para baixo na árvore para manter a propriedade do heap.\"\"\"\n",
    "    while (k * 2) <= self.tamanho_atual:\n",
    "        filho_min_idx = self._get_filho_min(k)\n",
    "        if self.heap[k] > self.heap[filho_min_idx]:\n",
    "            # Troca o nó com seu menor filho\n",
    "            self.heap[k], self.heap[filho_min_idx] = self.heap[filho_min_idx], self.heap[k]\n",
    "        k = filho_min_idx # Move o índice para a posição do filho para continuar\n",
    "\n",
    "def delete_min(self):\n",
    "    \"\"\"Remove e retorna o item mínimo do heap (a raiz).\"\"\"\n",
    "    if self.tamanho_atual == 0:\n",
    "        return None\n",
    "        \n",
    "    item_removido = self.heap[1]\n",
    "    # Move o último item para a raiz\n",
    "    self.heap[1] = self.heap[self.tamanho_atual]\n",
    "    self.tamanho_atual -= 1\n",
    "    self.heap.pop() # Remove o último item duplicado\n",
    "    self._percolar_para_baixo(1) # Inicia a percolação a partir da raiz\n",
    "    return item_removido"
   ]
  },
  {
   "cell_type": "markdown",
   "id": "b284f0eb",
   "metadata": {},
   "source": [
    "**Complexidade:** As operações `insert` e `delete_min` têm complexidade de tempo **O(log n)**, pois, no pior caso, percorrem a altura da árvore.\n",
    "\n",
    "### **Parte 3: Aplicações de Heaps (90 minutos)**\n",
    "\n",
    "#### **1. Heap Sort**\n",
    "\n",
    "O Heap Sort é um algoritmo de ordenação eficiente que utiliza a estrutura de um heap.\n",
    "O processo é simples:\n",
    "\n",
    "1.  Construa um heap (Min-Heap para ordem crescente) a partir da lista de elementos desordenada. \n",
    "2.  Extraia repetidamente o elemento mínimo (a raiz) do heap e adicione-o a uma nova lista. Cada extração (`delete_min`) reorganiza o heap, trazendo o próximo menor elemento para a raiz. \n",
    "3.  Quando o heap estiver vazio, a nova lista conterá todos os elementos em ordem crescente. \n"
   ]
  },
  {
   "cell_type": "code",
   "execution_count": 2,
   "id": "a8600415",
   "metadata": {},
   "outputs": [],
   "source": [
    "# Adicionar este método à classe HeapMinimo ou usar a instância da classe\n",
    "def heap_sort(lista_desordenada):\n",
    "    heap = HeapMinimo()\n",
    "    for item in lista_desordenada:\n",
    "        heap.insert(item)\n",
    "\n",
    "    lista_ordenada = []\n",
    "    while heap.tamanho_atual > 0:\n",
    "        lista_ordenada.append(heap.delete_min())\n",
    "    \n",
    "    return lista_ordenada"
   ]
  },
  {
   "cell_type": "code",
   "execution_count": 3,
   "id": "3ea6c3b0",
   "metadata": {},
   "outputs": [
    {
     "name": "stdout",
     "output_type": "stream",
     "text": [
      "Lista desordenada: [4, 8, 7, 2, 9, 10, 5, 1, 3, 6]\n",
      "Lista ordenada: [1, 2, 3, 4, 5, 6, 7, 8, 9, 10]\n"
     ]
    }
   ],
   "source": [
    "# Testando o Heap Sort\n",
    "numeros = [4, 8, 7, 2, 9, 10, 5, 1, 3, 6]\n",
    "print(f\"Lista desordenada: {numeros}\")\n",
    "print(f\"Lista ordenada: {heap_sort(numeros)}\")"
   ]
  },
  {
   "cell_type": "markdown",
   "id": "1471d4b4",
   "metadata": {},
   "source": [
    "\n",
    "**Complexidade:** O Heap Sort tem uma complexidade de tempo garantida de **O(n log n)** nos casos médio e pior, tornando-o um dos algoritmos de ordenação mais eficientes.\n",
    "\n",
    "#### **2. Fila de Prioridade (Priority Queue)**\n",
    "\n",
    "Uma Fila de Prioridade é uma estrutura de dados onde cada elemento possui uma \"prioridade\". Ao contrário de uma fila normal (FIFO), a operação `dequeue` sempre remove o elemento de **maior prioridade**. \n",
    "\n",
    "A implementação mais eficiente de uma Fila de Prioridade é com um **Heap**. \n",
    "\n",
    "  * Podemos usar um **Min-Heap**, onde um valor de prioridade menor significa maior prioridade.\n",
    "  * Os elementos no heap serão tuplas: `(prioridade, dado)`.\n",
    "  * As operações de `_percolar_para_cima` e `_percolar_para_baixo` compararão apenas a primeira parte da tupla (a prioridade).\n"
   ]
  },
  {
   "cell_type": "code",
   "execution_count": 4,
   "id": "710120d3",
   "metadata": {},
   "outputs": [],
   "source": [
    "class FilaDePrioridadeHeap:\n",
    "    def __init__(self):\n",
    "        self.heap = [(0, 0)] # Tupla sentinela\n",
    "        self.tamanho_atual = 0\n",
    "\n",
    "    def _percolar_para_cima(self, k):\n",
    "        while k // 2 > 0:\n",
    "            # Compara a prioridade (índice 0 da tupla)\n",
    "            if self.heap[k][0] < self.heap[k // 2][0]:\n",
    "                self.heap[k], self.heap[k // 2] = self.heap[k // 2], self.heap[k]\n",
    "            k = k // 2\n",
    "\n",
    "    def insert(self, prioridade, item):\n",
    "        self.heap.append((prioridade, item))\n",
    "        self.tamanho_atual += 1\n",
    "        self._percolar_para_cima(self.tamanho_atual)\n",
    "\n",
    "    def _get_filho_min(self, k):\n",
    "        if (k * 2 + 1) > self.tamanho_atual:\n",
    "            return k * 2\n",
    "        else:\n",
    "            if self.heap[k * 2][0] < self.heap[k * 2 + 1][0]:\n",
    "                return k * 2\n",
    "            else:\n",
    "                return k * 2 + 1\n",
    "\n",
    "    def _percolar_para_baixo(self, k):\n",
    "        while (k * 2) <= self.tamanho_atual:\n",
    "            filho_min_idx = self._get_filho_min(k)\n",
    "            if self.heap[k][0] > self.heap[filho_min_idx][0]:\n",
    "                self.heap[k], self.heap[filho_min_idx] = self.heap[filho_min_idx], self.heap[k]\n",
    "            k = filho_min_idx\n",
    "\n",
    "    def delete_min(self):\n",
    "        if self.tamanho_atual == 0:\n",
    "            return None\n",
    "        # Retorna o item (índice 1 da tupla), não a prioridade\n",
    "        item_removido = self.heap[1][1] \n",
    "        self.heap[1] = self.heap[self.tamanho_atual]\n",
    "        self.tamanho_atual -= 1\n",
    "        self.heap.pop()\n",
    "        self._percolar_para_baixo(1)\n",
    "        return item_removido"
   ]
  },
  {
   "cell_type": "code",
   "execution_count": 20,
   "id": "75b5e112",
   "metadata": {},
   "outputs": [
    {
     "name": "stdout",
     "output_type": "stream",
     "text": [
      "\n",
      "--- Testando a Fila de Prioridade ---\n"
     ]
    }
   ],
   "source": [
    "# Testando a Fila de Prioridade\n",
    "print(\"\\n--- Testando a Fila de Prioridade ---\")\n",
    "fila_p = FilaDePrioridadeHeap()\n",
    "fila_p.insert(5, \"Lavar a louça\")\n",
    "fila_p.insert(2, \"Brincar com as Crianças\")\n",
    "fila_p.insert(1, \"Ligar para o médico (urgente)\")\n",
    "fila_p.insert(7, \"Ler um livro\")\n",
    "fila_p.insert(3, \"Estudar Estruturas de Dados\")\n",
    "fila_p.insert(1, \"Dormir\")"
   ]
  },
  {
   "cell_type": "code",
   "execution_count": 22,
   "id": "e425837e",
   "metadata": {},
   "outputs": [
    {
     "name": "stdout",
     "output_type": "stream",
     "text": [
      "Atendendo tarefas por prioridade:\n",
      "Dormir\n"
     ]
    }
   ],
   "source": [
    "print(\"Atendendo tarefas por prioridade:\")\n",
    "print(fila_p.delete_min()) "
   ]
  },
  {
   "cell_type": "markdown",
   "id": "465d6ef8",
   "metadata": {},
   "source": [
    "### **Exercícios da Aula 10**\n",
    "\n",
    "1.  Qual é a complexidade de tempo para deletar um elemento arbitrário (não necessariamente a raiz) de um min-heap? \n",
    "2.  Qual é a complexidade de tempo para encontrar o k-ésimo menor elemento de um min-heap? \n",
    "3.  Qual é a complexidade de tempo no pior caso para encontrar o menor elemento em um max-heap binário e em um min-heap binário? \n",
    "4.  O percurso em ordem de nível de um max-heap é `12, 9, 7, 4, 2`. Após inserir os novos elementos `1` e `8`, qual será o percurso em ordem de nível do max-heap final?\n"
   ]
  }
 ],
 "metadata": {
  "kernelspec": {
   "display_name": "3.13.3",
   "language": "python",
   "name": "python3"
  },
  "language_info": {
   "codemirror_mode": {
    "name": "ipython",
    "version": 3
   },
   "file_extension": ".py",
   "mimetype": "text/x-python",
   "name": "python",
   "nbconvert_exporter": "python",
   "pygments_lexer": "ipython3",
   "version": "3.13.3"
  }
 },
 "nbformat": 4,
 "nbformat_minor": 5
}
