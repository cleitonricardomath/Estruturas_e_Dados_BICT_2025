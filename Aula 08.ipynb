{
 "cells": [
  {
   "cell_type": "markdown",
   "id": "e92a7fb8",
   "metadata": {},
   "source": [
    "## Aula 08: Fundamentos de Árvores e Árvores Binárias\n",
    "\n",
    "**Objetivo:** Compreender a terminologia fundamental de árvores, a estrutura de uma árvore binária, seus diferentes tipos e os principais algoritmos de percurso (travessia).\n",
    "\n",
    "### **Parte 1: O que é uma Árvore?**\n",
    "\n",
    "Até agora, vimos estruturas de dados lineares (listas, pilhas, filas), onde os itens são armazenados em sequência. Uma **árvore** é uma estrutura de dados **não linear** e hierárquica.  Pense em uma árvore genealógica ou na estrutura de pastas de um computador.\n",
    "\n",
    "#### **Terminologia Essencial**\n",
    "\n",
    "Para entender árvores, precisamos de um vocabulário comum. Vamos usar a árvore abaixo como referência:\n",
    "\n",
    "veja a Figura 6.1 do livro.\n",
    "\n",
    "* **Nó (Node):** Cada item na árvore. No diagrama, as letras de A a M são nós. \n",
    "* **Raiz (Root):** O nó do topo, que não tem \"pai\". É o ancestral de todos os outros. Em nosso exemplo, A é a raiz. \n",
    "* **Aresta (Edge):** A conexão entre dois nós. \n",
    "* **Pai (Parent):** Um nó que tem descendentes. B é o pai de D, E e F. \n",
    "* **Filho (Child):** Um nó que descende de outro. D, E e F são filhos de B. \n",
    "* **Irmãos (Siblings):** Nós que compartilham o mesmo pai. B e C são irmãos. \n",
    "* **Folha (Leaf):** Um nó que não tem filhos. J, E, K, L, H, M, e I são folhas. \n",
    "* **Subárvore (Subtree):** Uma árvore cujos nós descendem de outro nó. Por exemplo, os nós F, K e L formam uma subárvore. \n",
    "* **Nível (Level):** A raiz está no nível 0. Seus filhos estão no nível 1, e assim por diante. \n",
    "* **Altura (Height):** O número total de nós no caminho mais longo da raiz até a folha mais distante. A altura da árvore no exemplo é 4 (ex: caminho A-B-F-K). \n",
    "* **Profundidade (Depth):** O número de arestas da raiz até um nó específico. A profundidade do nó H é 2. \n",
    "\n",
    "### **Parte 2: Árvores Binárias e Implementação**\n",
    "\n",
    "A **árvore binária** é um tipo especial de árvore onde cada nó pode ter, no máximo, **dois filhos**: um filho à esquerda e um filho à direita. \n",
    "\n",
    "#### **Tipos de Árvores Binárias**\n",
    "\n",
    "* **Árvore Binária Cheia (Full):** Cada nó tem 0 ou 2 filhos. Nenhum nó tem apenas 1 filho. \n",
    "* **Árvore Binária Perfeita (Perfect):** Todos os níveis estão completamente preenchidos. \n",
    "* **Árvore Binária Completa (Complete):** Todos os níveis estão preenchidos, exceto possivelmente o último, que é preenchido da esquerda para a direita.\n",
    "* **Árvore Binária Balanceada (Balanced):** A diferença de altura entre a subárvore esquerda e a direita de *qualquer* nó não é maior que 1. \n",
    "\n",
    "#### **Implementando o Nó de uma Árvore Binária**\n",
    "\n",
    "A implementação de um nó de árvore binária em Python é simples. Ele contém o dado e duas referências (ponteiros), uma para o filho da esquerda e outra para o da direita."
   ]
  },
  {
   "cell_type": "code",
   "execution_count": 1,
   "id": "64fe0c00",
   "metadata": {},
   "outputs": [],
   "source": [
    "class No:\n",
    "    \"\"\"Representa o nó de uma árvore binária.\"\"\"\n",
    "    def __init__(self, dado):\n",
    "        self.dado = dado\n",
    "        self.filho_esquerda = None\n",
    "        self.filho_direita = None"
   ]
  },
  {
   "cell_type": "code",
   "execution_count": 2,
   "id": "e761f0d5",
   "metadata": {},
   "outputs": [],
   "source": [
    "# Podemos criar uma árvore manualmente, instanciando os nós e ligando-os:\n",
    "\n",
    "# Criando os nós\n",
    "raiz = No(\"Raiz\")\n",
    "no_esq = No(\"Filho Esquerda\")\n",
    "no_dir = No(\"Filho Direita\")\n",
    "neto_esq = No(\"Neto Esquerda\")\n"
   ]
  },
  {
   "cell_type": "code",
   "execution_count": 3,
   "id": "432fad7e",
   "metadata": {},
   "outputs": [],
   "source": [
    "\n",
    "# Ligando os nós para formar a árvore\n",
    "raiz.filho_esquerda = no_esq\n",
    "raiz.filho_direita = no_dir\n",
    "no_esq.filho_esquerda = neto_esq"
   ]
  },
  {
   "cell_type": "code",
   "execution_count": 6,
   "id": "6a641e63",
   "metadata": {},
   "outputs": [
    {
     "name": "stdout",
     "output_type": "stream",
     "text": [
      "Raiz\n",
      "Filho Direita\n"
     ]
    }
   ],
   "source": [
    "atual = raiz\n",
    "while atual:\n",
    "    print(atual.dado)\n",
    "    atual = atual.filho_direita"
   ]
  },
  {
   "cell_type": "markdown",
   "id": "df0de796",
   "metadata": {},
   "source": [
    "\n",
    "### **Parte 3: Percursos em Árvores (Tree Traversal)**\n",
    "\n",
    "Percorrer (ou atravessar) uma árvore significa visitar todos os seus nós de uma maneira sistemática. Existem duas abordagens principais:\n",
    "\n",
    "1.  **Busca em Profundidade (Depth-First Search - DFS):** Explora o mais fundo possível em cada ramo antes de retroceder. Tem três variações principais.\n",
    "2.  **Busca em Largura (Breadth-First Search - BFS):** Explora a árvore nível por nível.\n",
    "\n",
    "#### **Percursos DFS (Depth-First Search)**\n",
    "\n",
    "1.  **Em-Ordem (In-order):** Visita `Esquerda -> Raiz -> Direita`. \n",
    "\n",
    "      * **OBS** Em uma Árvore de Busca Binária (veremos na próxima aula), este percurso retorna os elementos em ordem crescente.\n"
   ]
  },
  {
   "cell_type": "code",
   "execution_count": 7,
   "id": "9cc9983d",
   "metadata": {},
   "outputs": [],
   "source": [
    "    def percurso_em_ordem(no_raiz):\n",
    "        if no_raiz is None:\n",
    "            return\n",
    "        percurso_em_ordem(no_raiz.filho_esquerda)\n",
    "        print(no_raiz.dado, end=\" -> \")\n",
    "        percurso_em_ordem(no_raiz.filho_direita)"
   ]
  },
  {
   "cell_type": "code",
   "execution_count": 8,
   "id": "8729a775",
   "metadata": {},
   "outputs": [
    {
     "name": "stdout",
     "output_type": "stream",
     "text": [
      "Neto Esquerda -> Filho Esquerda -> Raiz -> Filho Direita -> "
     ]
    }
   ],
   "source": [
    "percurso_em_ordem(raiz)"
   ]
  },
  {
   "cell_type": "markdown",
   "id": "1776af07",
   "metadata": {},
   "source": [
    "\n",
    "2.  **Pré-Ordem (Pre-order):** Visita `Raiz -> Esquerda -> Direita`. \n",
    "\n",
    "      * **OBS** Útil para criar uma cópia da árvore ou para obter a expressão em notação polonesa de uma árvore de expressão.\n",
    "    "
   ]
  },
  {
   "cell_type": "code",
   "execution_count": 9,
   "id": "40656ec0",
   "metadata": {},
   "outputs": [],
   "source": [
    "def percurso_pre_ordem(no_raiz):\n",
    "        if no_raiz is None:\n",
    "            return\n",
    "        print(no_raiz.dado, end=\" -> \")\n",
    "        percurso_pre_ordem(no_raiz.filho_esquerda)\n",
    "        percurso_pre_ordem(no_raiz.filho_direita)"
   ]
  },
  {
   "cell_type": "code",
   "execution_count": 10,
   "id": "f7eb37f2",
   "metadata": {},
   "outputs": [
    {
     "name": "stdout",
     "output_type": "stream",
     "text": [
      "Raiz -> Filho Esquerda -> Neto Esquerda -> Filho Direita -> "
     ]
    }
   ],
   "source": [
    "percurso_pre_ordem(raiz)"
   ]
  },
  {
   "cell_type": "markdown",
   "id": "6999e56d",
   "metadata": {},
   "source": [
    "3.  **Pós-Ordem (Post-order):** Visita `Esquerda -> Direita -> Raiz`. \n",
    "\n",
    "      * **OBS** Usado para deletar os nós de uma árvore (você deleta os filhos antes de deletar o pai).\n",
    " "
   ]
  },
  {
   "cell_type": "code",
   "execution_count": 11,
   "id": "2c11fab5",
   "metadata": {},
   "outputs": [],
   "source": [
    "def percurso_pos_ordem(no_raiz):\n",
    "        if no_raiz is None:\n",
    "            return\n",
    "        percurso_pos_ordem(no_raiz.filho_esquerda)\n",
    "        percurso_pos_ordem(no_raiz.filho_direita)\n",
    "        print(no_raiz.dado, end=\" -> \")"
   ]
  },
  {
   "cell_type": "code",
   "execution_count": 12,
   "id": "e06bebe5",
   "metadata": {},
   "outputs": [
    {
     "name": "stdout",
     "output_type": "stream",
     "text": [
      "Neto Esquerda -> Filho Esquerda -> Filho Direita -> Raiz -> "
     ]
    }
   ],
   "source": [
    "percurso_pos_ordem(raiz)"
   ]
  },
  {
   "cell_type": "markdown",
   "id": "1165dcb3",
   "metadata": {},
   "source": [
    "#### **Percurso BFS (Breadth-First Search)**\n",
    "\n",
    "4.  **Em Nível (Level-order):** Visita os nós nível por nível, da esquerda para a direita.  Este percurso utiliza uma **fila** para controlar os nós a serem visitados. \n"
   ]
  },
  {
   "cell_type": "code",
   "execution_count": 14,
   "id": "e4a735e8",
   "metadata": {},
   "outputs": [],
   "source": [
    "from collections import deque\n",
    "\n",
    "def percurso_em_nivel(no_raiz):\n",
    "    if no_raiz is None:\n",
    "        return\n",
    "\n",
    "    fila = deque([no_raiz]) # Usa uma fila da biblioteca collections\n",
    "    while len(fila) > 0:\n",
    "        no_atual = fila.popleft()\n",
    "        print(no_atual.dado, end=\" -> \")\n",
    "        \n",
    "        if no_atual.filho_esquerda:\n",
    "            fila.append(no_atual.filho_esquerda)\n",
    "        if no_atual.filho_direita:\n",
    "            fila.append(no_atual.filho_direita)"
   ]
  },
  {
   "cell_type": "code",
   "execution_count": 15,
   "id": "0bff0971",
   "metadata": {},
   "outputs": [
    {
     "name": "stdout",
     "output_type": "stream",
     "text": [
      "Raiz -> Filho Esquerda -> Filho Direita -> Neto Esquerda -> "
     ]
    }
   ],
   "source": [
    "percurso_em_nivel(raiz)"
   ]
  },
  {
   "cell_type": "markdown",
   "id": "8e68ddba",
   "metadata": {},
   "source": [
    "### **Exercícios da Aula 08**\n",
    "\n",
    "1.  Dada a árvore da seção de Terminologia (Figura 6.1), qual seria o resultado dos percursos Em-Ordem, Pré-Ordem e Pós-Ordem para a subárvore que tem `C` como raiz?\n",
    "2.  Qual percurso de árvore visita o nó raiz por último? \n",
    "3.  Quantas folhas existem na árvore da Figura 6.1?\n",
    "4.  Crie uma árvore binária manualmente e implemente as quatro funções de percurso para imprimir seus nós nas diferentes ordens.\n"
   ]
  }
 ],
 "metadata": {
  "kernelspec": {
   "display_name": "3.13.3",
   "language": "python",
   "name": "python3"
  },
  "language_info": {
   "codemirror_mode": {
    "name": "ipython",
    "version": 3
   },
   "file_extension": ".py",
   "mimetype": "text/x-python",
   "name": "python",
   "nbconvert_exporter": "python",
   "pygments_lexer": "ipython3",
   "version": "3.13.3"
  }
 },
 "nbformat": 4,
 "nbformat_minor": 5
}
