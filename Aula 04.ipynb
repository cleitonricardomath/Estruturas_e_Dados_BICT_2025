{
 "cells": [
  {
   "cell_type": "markdown",
   "id": "9c0a27fd",
   "metadata": {},
   "source": [
    "## Aula 04 - Fundamentos e Listas Simples (Baseado no capítulo 4 - listas encadeadas)\n",
    "\n",
    "### Estrutura da Aula 1:\n",
    "\n",
    "1.  **Módulo 1: Revisão de Conceitos Fundamentais **\n",
    "    * Arrays (Revisão e Limitações) \n",
    "    * Revisão de Programação Orientada a Objetos (POO) em Python \n",
    "        * Classes e Objetos\n",
    "        * Atributos (de instância e de classe)\n",
    "        * Métodos (incluindo `__init__` e `self`)\n",
    "        * Encapsulamento (conceito básico)\n",
    "2.  **Módulo 2: Introdução às Listas Encadeadas e Estrutura do Nó **\n",
    "    * Introduzindo Listas Encadeadas (Conceito, Vantagens sobre Arrays) \n",
    "    * Estrutura do Nó (Node) em Detalhes (Implementando a Classe `No`) \n",
    "3.  **Módulo 3: Listas Encadeadas Simples - Implementação e Operações Iniciais**\n",
    "    * Estrutura da Classe `ListaEncadeadaSimples` (`head`, `tamanho`, `tail`) "
   ]
  },
  {
   "cell_type": "markdown",
   "id": "820e484c",
   "metadata": {},
   "source": [
    "## Módulo 1: Revisão de Conceitos Fundamentais \n",
    "\n",
    "### 1. Arrays (Revisão e Limitações) \n",
    "\n",
    "#### O que são Arrays?\n",
    "Arrays (ou vetores/listas em Python) são estruturas de dados que armazenam uma coleção de itens do mesmo tipo (embora Python seja flexível quanto a isso em suas listas nativas) em **locais de memória contíguos**.\n",
    "\n",
    "**Características Principais:**\n",
    "* **Acesso por Índice:** Elementos são acessados diretamente por um índice numérico (ex: `meu_array[0]`). Tempo de acesso $O(1)$.\n",
    "* **Tamanho Fixo (Tradicional):** Em Python, listas são dinâmicas, mas o redimensionamento interno pode ter custos.\n",
    "* **Memória Contígua:** Elementos armazenados sequencialmente."
   ]
  },
  {
   "cell_type": "code",
   "execution_count": 4,
   "id": "26b7f997",
   "metadata": {},
   "outputs": [
    {
     "name": "stdout",
     "output_type": "stream",
     "text": [
      "Primeiro nome: Ana\n",
      "Nomes: ['Ana', 'Beatriz', 'Carla']\n"
     ]
    }
   ],
   "source": [
    "# Exemplo de lista em Python\n",
    "nomes = [\"Ana\", \"Bruno\", \"Carla\"]\n",
    "print(f\"Primeiro nome: {nomes[0]}\")\n",
    "nomes[1] = \"Beatriz\" # Modificação\n",
    "print(f\"Nomes: {nomes}\")\n"
   ]
  },
  {
   "cell_type": "markdown",
   "id": "f36a9d93",
   "metadata": {},
   "source": [
    "**Limitações dos Arrays**\n",
    "* **Redimensionamento Custoso:**Adicionar elementos além da capacidade pode exigir criar um novo array maior e copiar tudo (O(n)).\n",
    "\n",
    "* **Inserção/Remoção Ineficientes no Meio:** Deslocar elementos para abrir/fechar espaço é O(n)."
   ]
  },
  {
   "cell_type": "code",
   "execution_count": 2,
   "id": "fd66a00d",
   "metadata": {},
   "outputs": [
    {
     "name": "stdout",
     "output_type": "stream",
     "text": [
      "Original: [10, 20, 40, 50]\n",
      "Após inserção: [10, 20, 30, 40, 50]\n",
      "Após remoção: [10, 30, 40, 50]\n"
     ]
    }
   ],
   "source": [
    "lista_demo = [10, 20, 40, 50]\n",
    "print(f\"Original: {lista_demo}\")\n",
    "# Inserir 30 na posição 2\n",
    "lista_demo.insert(2, 30) # Desloca 40, 50\n",
    "print(f\"Após inserção: {lista_demo}\")\n",
    "# Remover o 20 (índice 1)\n",
    "del lista_demo[1] # Desloca 30, 40, 50\n",
    "print(f\"Após remoção: {lista_demo}\")"
   ]
  },
  {
   "cell_type": "markdown",
   "id": "33198f66",
   "metadata": {},
   "source": [
    "* Desperdício de Memória: Alocar tamanho excessivo leva a memória não utilizada.\n",
    "\n",
    "Estas limitações nos motivam a explorar as **Listas Encadeadas.**"
   ]
  },
  {
   "cell_type": "markdown",
   "id": "99f61290",
   "metadata": {},
   "source": [
    "2. Revisão de Programação Orientada a Objetos (POO) em Python \n",
    "POO nos permite modelar entidades do mundo real como \"objetos\", que têm características (atributos) e comportamentos (métodos). A estrutura de Listas Encadeadas é naturalmente implementada usando POO.\n",
    "\n",
    "a. Classes e Objetos\n",
    "Classe: É um \"molde\" ou \"planta baixa\" para criar objetos. Define um tipo de dado abstrato.\n",
    "\n",
    "Exemplo: Carro (molde), Pessoa (molde).\n",
    "\n",
    "Objeto (Instância): É uma ocorrência concreta de uma classe.\n",
    "\n",
    "Exemplo: meu_fusca (objeto do tipo Carro), joao (objeto do tipo Pessoa)."
   ]
  },
  {
   "cell_type": "code",
   "execution_count": null,
   "id": "4624684f",
   "metadata": {},
   "outputs": [],
   "source": [
    "# Definindo uma classe simples\n",
    "class Cachorro:\n",
    "    # Atributo de classe (compartilhado por todas as instâncias)\n",
    "    especie = \"Canis familiaris\"\n",
    "\n",
    "    # Método construtor (__init__): chamado ao criar um objeto\n",
    "    def __init__(self, nome_do_cao, raca_do_cao):\n",
    "        # Atributos de instância (específicos de cada objeto)\n",
    "        self.nome = nome_do_cao  # 'self' refere-se à instância atual\n",
    "        self.raca = raca_do_cao\n",
    "        self.esta_dormindo = False\n",
    "        print(f\"Cachorro '{self.nome}' da raça '{self.raca}' criado!\")\n",
    "\n",
    "    # Método de instância\n",
    "    def latir(self):\n",
    "        if not self.esta_dormindo:\n",
    "            return f\"{self.nome} diz: Au au!\"\n",
    "        else:\n",
    "            return f\"{self.nome} está dormindo... Zzz...\"\n",
    "\n",
    "    def dormir(self):\n",
    "        self.esta_dormindo = True\n",
    "        print(f\"{self.nome} foi dormir.\")\n",
    "\n",
    "    def acordar(self):\n",
    "        self.esta_dormindo = False\n",
    "        print(f\"{self.nome} acordou!\")\n",
    "\n",
    "# Criando objetos (instâncias) da classe Cachorro\n",
    "cao1 = Cachorro(\"Rex\", \"Labrador\")\n",
    "cao2 = Cachorro(\"Luna\", \"Poodle\")\n",
    "\n",
    "# Acessando atributos de instância\n",
    "print(f\"{cao1.nome} é um {cao1.raca}.\") # Rex é um Labrador.\n",
    "print(f\"{cao2.nome} é um {cao2.raca}.\") # Luna é um Poodle.\n",
    "\n",
    "# Acessando atributo de classe\n",
    "print(f\"Todos os cachorros são da espécie: {Cachorro.especie}\")\n",
    "print(f\"{cao1.nome} também é da espécie: {cao1.especie}\") # Instâncias também podem acessar\n",
    "\n",
    "# Chamando métodos de instância\n",
    "print(cao1.latir())\n",
    "cao2.dormir()\n",
    "print(cao2.latir())\n",
    "cao1.acordar()"
   ]
  },
  {
   "cell_type": "markdown",
   "id": "2b3a1765",
   "metadata": {},
   "source": [
    "Parte 2: Apresentando as Listas Encadeadas - O Quebra-Cabeça da Memória \n",
    "Agora que entendemos as limitações dos Arrays, vamos conhecer uma estrutura de dados que veio para resolver alguns desses problemas: as Listas Encadeadas.\n",
    "\n",
    "Imaginem agora que nossa estante de livros não é mais contígua. Cada livro está em um lugar diferente da biblioteca, mas cada livro tem uma pequena etiqueta que diz \"o próximo livro está na seção X, prateleira Y\". É assim que uma Lista Encadeada funciona!\n",
    "\n",
    "O que são Listas Encadeadas?\n",
    "\n",
    "Definição: Uma coleção de elementos, chamados nós (nodes), onde cada nó contém dois \"pedaços\" de informação:\n",
    "\n",
    "Dados: O valor que queremos armazenar (o \"livro\").\n",
    "Ponteiro/Referência: Um \"endereço\" para o próximo nó na sequência (a \"etiqueta\" que diz onde está o próximo livro).\n",
    "Não Contíguas: Diferente dos Arrays, os nós de uma Lista Encadeada não precisam estar um do lado do outro na memória. Eles podem estar espalhados! O que os conecta é o ponteiro.\n",
    "\n",
    "A Anatomia de um Nó (Node)\n",
    "\n",
    "Este é o coração da Lista Encadeada. Cada elemento da lista é um objeto que encapsula o dado e a referência para o próximo.\n",
    "\n",
    "Vamos pensar em termos de Programação Orientada a Objetos (POO). Lembra das classes e objetos? Um nó é um objeto de uma classe Node."
   ]
  },
  {
   "cell_type": "code",
   "execution_count": 1,
   "id": "fac8a606",
   "metadata": {},
   "outputs": [],
   "source": [
    "class No:\n",
    "    \"\"\"\n",
    "    Uma classe para representar um nó em uma lista encadeada.\n",
    "    \"\"\"\n",
    "    def __init__(self, dado=None):\n",
    "        self.dado = dado  # O dado armazenado no nó\n",
    "        self.next = None  # O ponteiro para o próximo nó, inicializado como None"
   ]
  },
  {
   "cell_type": "markdown",
   "id": "c8ea36c9",
   "metadata": {},
   "source": [
    "Explicando a Classe Node:\n",
    "\n",
    "class Node:: Definimos uma nova \"receita\" (classe) para criar nossos nós.\n",
    "def __init__(self, data):: Este é o método construtor. Ele é chamado toda vez que criamos um novo objeto Node.\n",
    "self: Representa o próprio objeto que está sendo criado.\n",
    "data: O valor que queremos guardar neste nó.\n",
    "self.data = data: Atribuímos o valor passado para o atributo data do nó.\n",
    "self.next = None: Este é o pulo do gato! self.next será a referência para o próximo nó. No início, quando criamos um nó, ele ainda não aponta para ninguém, então o definimos como None. None em Python significa \"nada\" ou \"ausência de valor\".\n",
    "Exemplo Prático: Criando alguns Nós"
   ]
  },
  {
   "cell_type": "code",
   "execution_count": 2,
   "id": "9cb7325b",
   "metadata": {},
   "outputs": [],
   "source": [
    "# Criando os nós\n",
    "no1 = No('ovos')\n",
    "no2 = No('presunto')\n",
    "no3 = No('Quitute')\n",
    "\n",
    "# Ligando os nós\n",
    "no1.next = no2\n",
    "no2.next = no3"
   ]
  },
  {
   "cell_type": "markdown",
   "id": "c362f9d8",
   "metadata": {},
   "source": [
    "Para percorrer (atravessar) a lista e imprimir seus valores, começamos pelo primeiro nó (no1) e seguimos os ponteiros next até chegarmos a None:"
   ]
  },
  {
   "cell_type": "code",
   "execution_count": 3,
   "id": "2d5da02e",
   "metadata": {},
   "outputs": [
    {
     "name": "stdout",
     "output_type": "stream",
     "text": [
      "ovos\n",
      "presunto\n",
      "Quitute\n"
     ]
    }
   ],
   "source": [
    "atual = no1\n",
    "while atual:\n",
    "    print(atual.dado)\n",
    "    atual = atual.next\n",
    "\n",
    "# Esse método funciona, mas expõe a estrutura interna do nó ao usuário. Uma abordagem melhor é encapsular a lógica dentro de uma classe ListaEncadeadaSimples."
   ]
  },
  {
   "cell_type": "markdown",
   "id": "f858a565",
   "metadata": {},
   "source": [
    "Melhorando a Criação e a Travessia\n",
    "Vamos criar uma classe para gerenciar nossa lista. Ela terá um ponteiro **head** para o primeiro nó e **tail** para o último."
   ]
  },
  {
   "cell_type": "code",
   "execution_count": 15,
   "id": "cdf2fde6",
   "metadata": {},
   "outputs": [],
   "source": [
    "class ListaEncadeadaSimples:\n",
    "    def __init__(self):\n",
    "        self.head = None  # Ponteiro para o primeiro nó\n",
    "        self.tail = None  # Ponteiro para o último nó\n",
    "        self.tamanho = 0     # Contador para o tamanho da lista\n",
    "\n",
    "    def __iter__(self):\n",
    "        \"\"\"\n",
    "        Um gerador para percorrer a lista de forma mais limpa.\n",
    "        \"\"\"\n",
    "        atual = self.head\n",
    "        while atual:\n",
    "            valor = atual.dado\n",
    "            atual = atual.next\n",
    "            yield valor\n",
    "            \n",
    "    def append(self, dado):\n",
    "        \"\"\"Adiciona um nó ao final da lista.\"\"\"\n",
    "        no = No(dado)\n",
    "        \n",
    "        if self.tail: # Se a lista não estiver vazia\n",
    "            self.tail.next = no\n",
    "            self.tail = no\n",
    "        else: # Se a lista estiver vazia\n",
    "            self.head = no\n",
    "            self.tail = no\n",
    "        \n",
    "        self.tamanho += 1\n",
    "    \n",
    "    def inserir_em_local(self, dado, indice):\n",
    "        \"\"\"Insere um nó em um índice específico.\"\"\"\n",
    "        atual = self.head\n",
    "        anterior = self.head\n",
    "        no = No(dado)\n",
    "        contador = 0\n",
    "\n",
    "        # Percorre a lista até o índice desejado\n",
    "        while atual and contador < indice:\n",
    "            anterior = atual\n",
    "            atual = atual.next\n",
    "            contador += 1\n",
    "\n",
    "        if indice > self.tamanho or indice < 0:\n",
    "            print(\"Índice fora do intervalo.\")\n",
    "            return\n",
    "\n",
    "        if indice == 0: # Inserir no início\n",
    "            no.next = self.head\n",
    "            self.head = no\n",
    "            if self.tamanho == 0:\n",
    "                self.tail = no\n",
    "        elif indice == self.tamanho: # Inserir no final (igual ao append)\n",
    "            self.tail.next = no\n",
    "            self.tail = no\n",
    "        else: # Inserir no meio\n",
    "            no.next = atual\n",
    "            anterior.next = no\n",
    "\n",
    "        self.tamanho += 1\n",
    "    \n",
    "    def procurar(self, dado):\n",
    "        \"\"\"Procura por um dado na lista. Retorna True se encontrar.\"\"\"\n",
    "        for dado_no in self:\n",
    "            if dado == dado_no:\n",
    "                return True\n",
    "        return False\n",
    "\n",
    "    def deletar_primeiro(self):\n",
    "        \"\"\"Deleta o primeiro nó da lista.\"\"\"\n",
    "        if self.head:\n",
    "            self.head = self.head.next\n",
    "            self.tamanho -= 1\n",
    "            if self.tamanho == 0:\n",
    "                self.tail = None\n",
    "        else:\n",
    "            print(\"Lista está vazia.\")\n",
    "\n",
    "    def deletar_ultimo(self):\n",
    "        \"\"\"Deleta o último nó da lista.\"\"\"\n",
    "        if self.head is None:\n",
    "            print(\"Lista está vazia.\")\n",
    "            return\n",
    "\n",
    "        if self.head == self.tail: # Apenas um elemento\n",
    "            self.head = None\n",
    "            self.tail = None\n",
    "        else:\n",
    "            atual = self.head\n",
    "            while atual.next != self.tail:\n",
    "                atual = atual.next\n",
    "            atual.next = None\n",
    "            self.tail = atual\n",
    "        \n",
    "        self.tamanho -= 1 \n",
    "    \n",
    "    def deletar_por_dado(self, dado):\n",
    "        \"\"\"Deleta um nó com um dado específico.\"\"\"\n",
    "        atual = self.head\n",
    "        anterior = self.head\n",
    "\n",
    "        while atual:\n",
    "            if atual.dado == dado:\n",
    "                if atual == self.head: # Se for o primeiro nó\n",
    "                    self.head = atual.next\n",
    "                    if self.tamanho == 1:\n",
    "                        self.tail = None\n",
    "                elif atual == self.tail: # Se for o último nó\n",
    "                    anterior.next = None\n",
    "                    self.tail = anterior\n",
    "                else: # Se for um nó do meio\n",
    "                    anterior.next = atual.next\n",
    "                self.tamanho -= 1\n",
    "                return\n",
    "            anterior = atual\n",
    "            atual = atual.next"
   ]
  },
  {
   "cell_type": "markdown",
   "id": "37013a10",
   "metadata": {},
   "source": [
    "O método __iter__ usa `yield`, o que o torna um gerador. Isso nos permite usar um loop `for` simples para percorrer a lista, escondendo a lógica dos nós.\n",
    "\n",
    "3. Adicionando Itens (Appending Items)\n",
    "Adicionar ao Final da Lista (Appending to the end):\n",
    "Para adicionar um novo item, criamos um novo nó e o anexamos ao final da lista. Ter um ponteiro tail torna essa operação muito eficiente, com complexidade O(1).\n"
   ]
  },
  {
   "cell_type": "code",
   "execution_count": null,
   "id": "dd9d6ae0",
   "metadata": {},
   "outputs": [],
   "source": [
    "# Este método vai dentro da classe ListaEncadeadaSimples\n",
    "def append(self, dado):\n",
    "    \"\"\"Adiciona um nó ao final da lista.\"\"\"\n",
    "    no = No(dado)\n",
    "    \n",
    "    if self.tail: # Se a lista não estiver vazia\n",
    "        self.tail.next = no\n",
    "        self.tail = no\n",
    "    else: # Se a lista estiver vazia\n",
    "        self.head = no\n",
    "        self.tail = no\n",
    "    \n",
    "    self.tamanho += 1\n"
   ]
  },
  {
   "cell_type": "code",
   "execution_count": 16,
   "id": "2014ca7e",
   "metadata": {},
   "outputs": [
    {
     "name": "stdout",
     "output_type": "stream",
     "text": [
      "ovo\n",
      "presunto\n",
      "Quitute\n"
     ]
    }
   ],
   "source": [
    "\n",
    "# Vamos testar\n",
    "palavras = ListaEncadeadaSimples()\n",
    "palavras.append('ovo')\n",
    "palavras.append('presunto')\n",
    "palavras.append('Quitute')\n",
    "\n",
    "# Usando nosso gerador __iter__ para percorrer a lista\n",
    "for palavra in palavras:\n",
    "    print(palavra)"
   ]
  },
  {
   "cell_type": "markdown",
   "id": "85f36577",
   "metadata": {},
   "source": [
    "### Adicionar em Posições Intermediárias (Appending at intermediate positions):\n",
    "\n",
    "Para inserir um nó em uma posição específica, precisamos percorrer a lista até o local desejado e ajustar os ponteiros.\n",
    "\n",
    "Ver Figura 4.9: Inserção de um nó entre dois nós sucessivos.\n",
    "\n",
    "A lógica é:\n",
    "\n",
    "* Percorrer a lista com dois ponteiros, `atual` e `anterior`.\n",
    "* Quando a posição correta for encontrada, o ponteiro `next` de anterior deve apontar para o novo nó.\n",
    "* O ponteiro `next` do novo nó deve apontar para atual."
   ]
  },
  {
   "cell_type": "code",
   "execution_count": null,
   "id": "fa994cdb",
   "metadata": {},
   "outputs": [],
   "source": [
    "# Este método vai dentro da classe ListaEncadeadaSimples\n",
    "    \"\"\"Deleta um nó com um dado específico.\"\"\"\n",
    "        atual = self.head\n",
    "        anterior = self.head\n",
    "\n",
    "        while atual:\n",
    "            if atual.dado == dado:\n",
    "                if atual == self.head: # Se for o primeiro nó\n",
    "                    self.head = atual.next\n",
    "                    if self.tamanho == 1:\n",
    "                        self.tail = None\n",
    "                elif atual == self.tail: # Se for o último nó\n",
    "                    anterior.next = None\n",
    "                    self.tail = anterior\n",
    "                else: # Se for um nó do meio\n",
    "                    anterior.next = atual.next\n",
    "                self.tamanho -= 1\n",
    "                return\n",
    "            anterior = atual\n",
    "            atual = atual.next"
   ]
  },
  {
   "cell_type": "code",
   "execution_count": 26,
   "id": "220f7d7e",
   "metadata": {},
   "outputs": [
    {
     "name": "stdout",
     "output_type": "stream",
     "text": [
      "presunto\n",
      "Carne\n",
      "Queijo\n",
      "Pão\n",
      "Quitute\n",
      "Ovo\n",
      "Bacon\n"
     ]
    }
   ],
   "source": [
    "#Vamos testar a inserção em local\n",
    "palavras.inserir_em_local('Carne', 1)  # Inserir 'bacon' na posição 1\n",
    "for palavra in palavras:\n",
    "    print(palavra)"
   ]
  },
  {
   "cell_type": "markdown",
   "id": "47c2b0d4",
   "metadata": {},
   "source": [
    "### Consultando uma Lista (Querying a list)\n",
    "Procurando um Elemento (Searching an element):\n",
    "Para verificar se um item existe na lista, percorremos cada nó e comparamos seu dado com o valor procurado."
   ]
  },
  {
   "cell_type": "code",
   "execution_count": null,
   "id": "e08d61d1",
   "metadata": {},
   "outputs": [],
   "source": [
    "# Este método vai dentro da classe ListaEncadeadaSimples\n",
    "def procurar(self, dado):\n",
    "    \"\"\"Procura por um dado na lista. Retorna True se encontrar.\"\"\"\n",
    "    for dado_no in self:\n",
    "        if dado == dado_no:\n",
    "            return True\n",
    "    return False"
   ]
  },
  {
   "cell_type": "markdown",
   "id": "9dc210b5",
   "metadata": {},
   "source": [
    "A complexidade dessa operação é **O(n)**, pois, no pior caso, teremos que percorrer a lista inteira.\n",
    "\n",
    "**Obtendo o Tamanho da Lista (Getting the size):**\n",
    "A forma mais eficiente de obter o tamanho é manter um contador (self.tamanho) que é incrementado a cada inserção e decrementado a cada deleção. Isso nos dá o tamanho em tempo **O(1)**. Sem isso, teríamos que percorrer toda a lista (O(n)) sempre que quiséssemos saber seu tamanho.\n",
    "\n",
    "\n",
    "2. Deletando Itens (Deleting Items)\n",
    "\n",
    "Deletando o Primeiro Nó (no início):\n",
    "Esta é a operação mais simples. Basta fazer o ponteiro `head` apontar para o segundo nó da lista."
   ]
  },
  {
   "cell_type": "code",
   "execution_count": null,
   "id": "44376f7c",
   "metadata": {},
   "outputs": [],
   "source": [
    "# Este método vai dentro da classe ListaEncadeadaSimples\n",
    "def deletar_primeiro(self):\n",
    "    \"\"\"Deleta o primeiro nó da lista.\"\"\"\n",
    "    if self.head:\n",
    "        self.head = self.head.next\n",
    "        self.tamanho -= 1\n",
    "        if self.tamanho == 0:\n",
    "            self.tail = None\n",
    "    else:\n",
    "        print(\"Lista está vazia.\")"
   ]
  },
  {
   "cell_type": "markdown",
   "id": "37125ee0",
   "metadata": {},
   "source": [
    "Deletando o Último Nó (no fim):\n",
    "Para deletar o último nó, precisamos percorrer a lista até o penúltimo nó e fazer seu ponteiro `next` apontar para `None`. O penúltimo nó se torna o novo `tail`. Isso tem complexidade O(n)."
   ]
  },
  {
   "cell_type": "code",
   "execution_count": null,
   "id": "4c3c9fe3",
   "metadata": {},
   "outputs": [],
   "source": [
    "# Este método vai dentro da classe ListaEncadeadaSimples\n",
    "def deletar_ultimo(self):\n",
    "    \"\"\"Deleta o último nó da lista.\"\"\"\n",
    "    if self.head is None:\n",
    "        print(\"Lista está vazia.\")\n",
    "        return\n",
    "\n",
    "    if self.head == self.tail: # Apenas um elemento\n",
    "        self.head = None\n",
    "        self.tail = None\n",
    "    else:\n",
    "        atual = self.head\n",
    "        while atual.next != self.tail:\n",
    "            atual = atual.next\n",
    "        atual.next = None\n",
    "        self.tail = atual\n",
    "    \n",
    "    self.tamanho -= 1"
   ]
  },
  {
   "cell_type": "markdown",
   "id": "be7c84e3",
   "metadata": {},
   "source": [
    "**Deletando um Nó Intermediário:**\n",
    "Para deletar um nó específico (por exemplo, pelo seu valor), precisamos percorrer a lista com os ponteiros `atual` e `anterior`. Quando encontramos o nó a ser deletado (atual), fazemos `anterior.next` apontar para `atual.next`, \"pulando\" o nó atual."
   ]
  },
  {
   "cell_type": "code",
   "execution_count": null,
   "id": "c22ff24f",
   "metadata": {},
   "outputs": [],
   "source": [
    "# Este método vai dentro da classe ListaEncadeadaSimples\n",
    "def deletar_por_dado(self, dado):\n",
    "    \"\"\"Deleta um nó com um dado específico.\"\"\"\n",
    "    atual = self.head\n",
    "    anterior = self.head\n",
    "\n",
    "    while atual:\n",
    "        if atual.dado == dado:\n",
    "            if atual == self.head: # Se for o primeiro nó\n",
    "                self.head = atual.next\n",
    "                if self.tamanho == 1:\n",
    "                    self.tail = None\n",
    "            elif atual == self.tail: # Se for o último nó\n",
    "                anterior.next = None\n",
    "                self.tail = anterior\n",
    "            else: # Se for um nó do meio\n",
    "                anterior.next = atual.next\n",
    "            self.tamanho -= 1\n",
    "            return\n",
    "        anterior = atual\n",
    "        atual = atual.next"
   ]
  },
  {
   "cell_type": "code",
   "execution_count": null,
   "id": "af7cc05d",
   "metadata": {},
   "outputs": [],
   "source": [
    "# Vamos testar deletar\n",
    "palavras.deletar_primeiro()  # Deleta o primeiro nó\n",
    "for palavra in palavras:\n",
    "    print(palavra)\n",
    "print(\"-------\")\n",
    "palavras.deletar_ultimo()  # Deleta o último nó\n",
    "for palavra in palavras:\n",
    "    print(palavra)\n",
    "print(\"-------\")\n",
    "palavras.deletar_por_dado('bacon')  # Deleta o nó com 'bacon'\n",
    "for palavra in palavras:\n",
    "    print(palavra)\n",
    "print(\"-------\")\n",
    "# Vamos testar procurar\n",
    "print(palavras.procurar('Ovo'))  # Deve retornar True\n",
    "print(\"-------\")\n",
    "print(palavras.procurar('bacon'))  # Deve retornar False, pois 'bacon' foi deletado"
   ]
  }
 ],
 "metadata": {
  "kernelspec": {
   "display_name": "3.13.3",
   "language": "python",
   "name": "python3"
  },
  "language_info": {
   "codemirror_mode": {
    "name": "ipython",
    "version": 3
   },
   "file_extension": ".py",
   "mimetype": "text/x-python",
   "name": "python",
   "nbconvert_exporter": "python",
   "pygments_lexer": "ipython3",
   "version": "3.13.3"
  }
 },
 "nbformat": 4,
 "nbformat_minor": 5
}
