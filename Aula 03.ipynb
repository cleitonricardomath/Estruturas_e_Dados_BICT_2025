{
 "cells": [
  {
   "cell_type": "markdown",
   "id": "ba5a33c3",
   "metadata": {},
   "source": [
    "## Aula 03: Técnicas e Estratégias de Design de Algoritmos (Capítulo 3)\n",
    "\n",
    "**Objetivo:** Introduzir os alunos às principais técnicas de design de algoritmos, capacitando-os a entender, analisar e aplicar essas estratégias na resolução de problemas com exemplos práticos em Python.\n",
    "\n",
    "* **O que são Algoritmos? (5 min)**\n",
    "    * **Explicação:** Revisão do conceito de algoritmo como uma sequência finita de instruções bem definidas para resolver um problema específico ou realizar uma tarefa.\n",
    "    * **Importância:** Destacar como algoritmos eficientes são cruciais para o desempenho de software, economia de recursos computacionais e resolução de problemas complexos.\n",
    "    * **Exemplo:** Uma receita de bolo é um algoritmo; seguir direções no GPS é outro.\n",
    "\n",
    "* **O que são Técnicas de Design de Algoritmos? (10 min)**\n",
    "    * **Explicação:** São abordagens ou paradigmas gerais, como modelos ou \"receitas\" de alto nível, que guiam a criação de algoritmos. Elas fornecem uma estrutura para pensar sobre como decompor e resolver problemas.\n",
    "    * **Por que aprender?** Permitem desenvolver soluções mais eficazes, eficientes e elegantes. Facilitam a resolução de novos problemas ao reconhecer padrões que se encaixam em determinadas técnicas.\n",
    "    * **Visão Geral:** Breve introdução às técnicas que serão exploradas na aula:\n",
    "        * Recursão\n",
    "        * Dividir e Conquistar\n",
    "        * Programação Dinâmica\n",
    "        * Algoritmos Gulosos\n",
    "\n",
    "* **Como escolher a técnica certa? (5 min)**\n",
    "    * **Explicação:** A escolha da técnica depende da natureza do problema, suas propriedades (ex: subproblemas sobrepostos, subestrutura ótima) e os requisitos de eficiência. Não há uma regra única, mas a experiência e o entendimento das técnicas ajudam.\n",
    "    * **Ponto Chave:** Entender as características de cada técnica é o primeiro passo para aplicá-las corretamente."
   ]
  },
  {
   "cell_type": "markdown",
   "id": "01b4ab9d",
   "metadata": {},
   "source": [
    "### Parte 1: Recursão\n",
    "\n",
    "* **O que é Recursão? (15 min)**\n",
    "    * **Explicação:** Em programação, recursão é uma técnica onde uma função chama a si mesma para resolver uma versão menor do mesmo problema.\n",
    "    * **Analogia:** Pense em bonecas russas (Matrioskas), onde cada boneca contém uma versão menor de si mesma, até chegar na menor boneca que não contém nenhuma outra.\n",
    "    * **Componentes Essenciais:**\n",
    "        * **Caso Base (Base Case):** É a condição que termina a recursão. Sem um caso base, a função se chamaria infinitamente, levando a um \"estouro de pilha\" (stack overflow). É a menor versão do problema que pode ser resolvida diretamente.\n",
    "        * **Passo Recursivo (Recursive Step):** É a parte da função onde ela chama a si mesma, mas com uma entrada modificada que se aproxima do caso base.\n",
    "\n",
    "* **Exemplo 1: Cálculo de Fatorial (15 min)**\n",
    "    * **Problema:** Calcular $n! = n \\times (n-1) \\times (n-2) \\times \\dots \\times 1$.\n",
    "    * **Lógica Recursiva:**\n",
    "        * $n! = n \\times (n-1)!$ (Passo Recursivo)\n",
    "        * $0! = 1$ ou $1! = 1$ (Caso Base)"
   ]
  },
  {
   "cell_type": "code",
   "execution_count": 4,
   "id": "8aef4ef8",
   "metadata": {},
   "outputs": [
    {
     "name": "stdout",
     "output_type": "stream",
     "text": [
      "O fatorial de 5 é: 120\n",
      "O fatorial de 0 é: 1\n",
      "O fatorial de 1 é: 1\n"
     ]
    }
   ],
   "source": [
    "# Exemplo em Python.\n",
    "def fatorial(n):\n",
    "    # Caso Base\n",
    "    if n == 0 or n == 1:\n",
    "        return 1\n",
    "    # Passo Recursivo\n",
    "    else:\n",
    "        return n * fatorial(n - 1)\n",
    "\n",
    "# Testando a função\n",
    "print(f\"O fatorial de 5 é: {fatorial(5)}\") # Saída: 120\n",
    "print(f\"O fatorial de 0 é: {fatorial(0)}\") # Saída: 1\n",
    "print(f\"O fatorial de 1 é: {fatorial(1)}\")"
   ]
  },
  {
   "cell_type": "markdown",
   "id": "a1edfec8",
   "metadata": {},
   "source": [
    "* **Explicação do Código:** Detalhar como a função se desdobra e retorna, possivelmente desenhando a pilha de chamadas para $n=3$.\n",
    "\n",
    "* **Exemplo 2: Sequência de Fibonacci (15 min)**\n",
    "    * **Problema:** Gerar o n-ésimo número da sequência de Fibonacci: $0, 1, 1, 2, 3, 5, 8, \\dots$ onde $F(n) = F(n-1) + F(n-2)$.\n",
    "    * **Lógica Recursiva:**\n",
    "        * $F(n) = F(n-1) + F(n-2)$ (Passo Recursivo)\n",
    "        * $F(0) = 0$, $F(1) = 1$ (Casos Base)"
   ]
  },
  {
   "cell_type": "code",
   "execution_count": 18,
   "id": "bcd6bc01",
   "metadata": {},
   "outputs": [
    {
     "name": "stdout",
     "output_type": "stream",
     "text": [
      "O 40º número de Fibonacci é: 102334155\n"
     ]
    }
   ],
   "source": [
    "def fibonacci_recursivo(n):\n",
    "            # Casos Base\n",
    "            if n <= 0:\n",
    "                return 0\n",
    "            elif n == 1:\n",
    "                return 1\n",
    "            # Passo Recursivo\n",
    "            else:\n",
    "                return fibonacci_recursivo(n - 1) + fibonacci_recursivo(n - 2)\n",
    "\n",
    "# Testando a função\n",
    "print(f\"O 40º número de Fibonacci é: {fibonacci_recursivo(40)}\") # Saída: 8"
   ]
  },
  {
   "cell_type": "markdown",
   "id": "92867bc6",
   "metadata": {},
   "source": [
    "* **Discussão:** Mencionar que esta implementação é intuitiva, mas ineficiente para valores maiores de `n` devido a recálculos repetidos dos mesmos subproblemas (ex: `fibonacci(3)` é calculado múltiplas vezes). Isso servirá de gancho para a Programação Dinâmica.\n",
    "\n",
    "* **Recursão vs. Iteração (5 min)**\n",
    "    * **Explicação:** Muitos problemas resolvidos recursivamente também podem ser resolvidos iterativamente (usando laços `for` ou `while`).\n",
    "    * **Prós da Recursão:** Código pode ser mais limpo, elegante e mais próximo da definição matemática para certos problemas (ex: árvores, algoritmos de dividir e conquistar).\n",
    "    * **Contras da Recursão:** Pode ser menos eficiente devido ao overhead das chamadas de função (cada chamada consome memória na pilha de chamadas). Risco de \"stack overflow\" para recursões muito profundas.\n",
    "    * **Escolha:** Depende do problema, clareza do código e considerações de desempenho."
   ]
  },
  {
   "cell_type": "markdown",
   "id": "ffc56f5e",
   "metadata": {},
   "source": [
    "### Parte 2: O que é Dividir e Conquistar? (15 min)\n",
    "\n",
    "* **Explicação:** É uma técnica de design de algoritmos que consiste em três etapas principais:\n",
    "    1.  **Dividir:** O problema original é quebrado em subproblemas menores e independentes. Idealmente, esses subproblemas são versões menores do problema original.\n",
    "    2.  **Conquistar:** Os subproblemas são resolvidos recursivamente. Se um subproblema é pequeno o suficiente (atinge um caso base), ele é resolvido diretamente.\n",
    "    3.  **Combinar:** As soluções dos subproblemas são combinadas para formar a solução do problema original.\n",
    "* **Quando Usar:** Particularmente eficaz para problemas que podem ser naturalmente decompostos e cujas soluções de subproblemas podem ser facilmente unidas.\n",
    "* **Analogia:** Organizar uma grande pilha de papéis: dividir a pilha em pilhas menores (dividir), organizar cada pilha menor (conquistar), e depois juntar as pilhas menores já organizadas (combinar).\n",
    "\n",
    "### Exemplo 1: Pesquisa Binária (20 min)\n",
    "\n",
    "* **Problema:** Encontrar a posição de um elemento específico em uma **lista ordenada**.\n",
    "* **Aplicando Dividir e Conquistar:**\n",
    "    * **Dividir:** Compara o elemento alvo com o elemento do meio da lista. Isso divide a lista em duas metades (ou encontra o elemento).\n",
    "    * **Conquistar:** Se o alvo não for o elemento do meio, resolve recursivamente o problema na metade esquerda ou direita, dependendo se o alvo é menor ou maior que o elemento do meio.\n",
    "    * **Combinar:** A \"combinação\" é trivial. O resultado da busca na sub-lista é o resultado final."
   ]
  },
  {
   "cell_type": "code",
   "execution_count": 6,
   "id": "f41b819b",
   "metadata": {},
   "outputs": [
    {
     "name": "stdout",
     "output_type": "stream",
     "text": [
      "Elemento 10 encontrado no índice 3\n"
     ]
    }
   ],
   "source": [
    "def pesquisa_binaria(lista_ordenada, alvo, baixo, alto):\n",
    "        if alto >= baixo:\n",
    "            meio = (baixo + alto) // 2\n",
    "\n",
    "            # Se o elemento está no meio\n",
    "            if lista_ordenada[meio] == alvo:\n",
    "                return meio\n",
    "            # Se o elemento é menor que o do meio, busca na metade esquerda\n",
    "            elif lista_ordenada[meio] > alvo:\n",
    "                return pesquisa_binaria(lista_ordenada, alvo, baixo, meio - 1)\n",
    "            # Senão, busca na metade direita\n",
    "            else:\n",
    "                return pesquisa_binaria(lista_ordenada, alvo, meio + 1, alto)\n",
    "        else:\n",
    "            # Elemento não está na lista\n",
    "            return -1\n",
    "\n",
    "# Testando a função\n",
    "arr = [2, 3, 4, 10, 40, 50]\n",
    "x = 10\n",
    "resultado = pesquisa_binaria(arr, x, 0, len(arr) - 1)\n",
    "if resultado != -1:\n",
    "    print(f\"Elemento {x} encontrado no índice {resultado}\") # Saída: Elemento 10 encontrado no índice 3\n",
    "else:\n",
    "    print(f\"Elemento {x} não encontrado\")"
   ]
  },
  {
   "cell_type": "markdown",
   "id": "116b272a",
   "metadata": {},
   "source": [
    "* **Complexidade:** Mencionar que a pesquisa binária tem complexidade de tempo $O(\\log n)$, pois a cada passo o tamanho do problema é reduzido pela metade.\n",
    "\n",
    "### Parte 2.3: Exemplo 2: Merge Sort (25 min)\n",
    "\n",
    "* **Problema:** Ordenar os elementos de uma lista.\n",
    "* **Aplicando Dividir e Conquistar:**\n",
    "    * **Dividir:** A lista é dividida recursivamente ao meio até que cada sublista contenha apenas um elemento (uma lista de um elemento já está \"ordenada\" - caso base).\n",
    "    * **Conquistar:** As sublistas de um elemento já estão resolvidas (ordenadas).\n",
    "    * **Combinar:** A etapa crucial é a função \"merge\" (mesclar/intercalar). Ela pega duas sublistas já ordenadas e as combina em uma única lista ordenada.\n",
    "* **Explicação do Processo de Merge:** Demonstrar com um exemplo como duas listas ordenadas (ex: `[1, 5, 7]` e `[2, 3, 6]`) são combinadas para formar `[1, 2, 3, 5, 6, 7]`."
   ]
  },
  {
   "cell_type": "code",
   "execution_count": 7,
   "id": "ba028fa2",
   "metadata": {},
   "outputs": [
    {
     "name": "stdout",
     "output_type": "stream",
     "text": [
      "Lista original: [54, 26, 93, 17, 77, 31, 44, 55, 20]\n",
      "Lista ordenada: [17, 20, 26, 31, 44, 54, 55, 77, 93]\n"
     ]
    }
   ],
   "source": [
    "def merge_sort(lista):\n",
    "        if len(lista) > 1:\n",
    "            meio = len(lista) // 2\n",
    "            metade_esquerda = lista[:meio]\n",
    "            metade_direita = lista[meio:]\n",
    "\n",
    "            # Chamada recursiva para cada metade\n",
    "            merge_sort(metade_esquerda)\n",
    "            merge_sort(metade_direita)\n",
    "\n",
    "            # Variáveis de controle para as sublistas e lista principal\n",
    "            i = 0 # Índice para metade_esquerda\n",
    "            j = 0 # Índice para metade_direita\n",
    "            k = 0 # Índice para lista principal (lista)\n",
    "\n",
    "            # Mescla as duas metades ordenadas\n",
    "            while i < len(metade_esquerda) and j < len(metade_direita):\n",
    "                if metade_esquerda[i] < metade_direita[j]:\n",
    "                    lista[k] = metade_esquerda[i]\n",
    "                    i += 1\n",
    "                else:\n",
    "                    lista[k] = metade_direita[j]\n",
    "                    j += 1\n",
    "                k += 1\n",
    "\n",
    "            # Verifica se sobraram elementos em alguma das metades\n",
    "            while i < len(metade_esquerda):\n",
    "                lista[k] = metade_esquerda[i]\n",
    "                i += 1\n",
    "                k += 1\n",
    "\n",
    "            while j < len(metade_direita):\n",
    "                lista[k] = metade_direita[j]\n",
    "                j += 1\n",
    "                k += 1\n",
    "        return lista\n",
    "\n",
    "# Testando a função\n",
    "minha_lista = [54, 26, 93, 17, 77, 31, 44, 55, 20]\n",
    "print(f\"Lista original: {minha_lista}\")\n",
    "lista_ordenada = merge_sort(minha_lista)\n",
    "print(f\"Lista ordenada: {lista_ordenada}\")\n",
    "# Saída: Lista ordenada: [17, 20, 26, 31, 44, 54, 55, 77, 93]"
   ]
  },
  {
   "cell_type": "markdown",
   "id": "ba7ad7a2",
   "metadata": {},
   "source": [
    "* **Complexidade:** Mencionar que o Merge Sort tem complexidade de tempo $O(n \\log n)$, sendo eficiente para grandes volumes de dados."
   ]
  },
  {
   "cell_type": "markdown",
   "id": "b34e0cdb",
   "metadata": {},
   "source": [
    "### Parte 3.1: O que é Programação Dinâmica (PD)? (15 min)\n",
    "\n",
    "* **Problema com Recursão Simples/Dividir e Conquistar:** Em alguns problemas, a abordagem recursiva pura (ou Dividir e Conquistar) pode resolver os mesmos subproblemas várias vezes, levando à ineficiência (ex: Fibonacci recursivo simples).\n",
    "* **Explicação da PD:** É uma técnica para otimizar algoritmos, especialmente aqueles com subproblemas sobrepostos. A ideia central é resolver cada subproblema apenas uma vez e armazenar sua solução em uma tabela (ou estrutura de dados similar) para consulta futura. Se o mesmo subproblema surgir novamente, a solução armazenada é reutilizada.\n",
    "* **Duas Propriedades Chave:**\n",
    "    1.  **Subproblemas Sobrepostos (Overlapping Subproblems):** O algoritmo precisa resolver os mesmos subproblemas repetidamente. A PD armazena a solução para evitar recálculos.\n",
    "    2.  **Subestrutura Ótima (Optimal Substructure):** A solução ótima para o problema original pode ser construída a partir das soluções ótimas de seus subproblemas.\n",
    "* **Diferença para Dividir e Conquistar:** Enquanto D&C divide em subproblemas independentes, a PD é útil quando os subproblemas se sobrepõem.\n",
    "\n",
    "### Parte 3.2: Fibonacci com Programação Dinâmica (25 min)\n",
    "\n",
    "* **Revisão:** Lembrar da ineficiência da solução recursiva para Fibonacci.\n",
    "* **Abordagem 1: Memoização (Top-Down)**\n",
    "    * **Explicação:** É uma abordagem recursiva que armazena os resultados dos subproblemas. Antes de calcular um subproblema, verifica se ele já foi resolvido. Se sim, retorna o valor armazenado; senão, calcula, armazena e retorna."
   ]
  },
  {
   "cell_type": "code",
   "execution_count": 17,
   "id": "87a57d37",
   "metadata": {},
   "outputs": [
    {
     "name": "stdout",
     "output_type": "stream",
     "text": [
      "Fibonacci (Memoização) de 10: 55\n",
      "Fibonacci (Memoização) de 30: 832040\n",
      "Fibonacci (Memoização) de 40: 102334155\n",
      "Fibonacci (Memoização) de 50: 12586269025\n"
     ]
    }
   ],
   "source": [
    "# Dicionário para armazenar resultados (cache)\n",
    "memo_fib = {}\n",
    "\n",
    "def fibonacci_memoizacao(n):\n",
    "    if n in memo_fib:\n",
    "        return memo_fib[n]\n",
    "            \n",
    "    if n <= 0:\n",
    "        resultado = 0\n",
    "    elif n == 1:\n",
    "        resultado = 1\n",
    "    else:\n",
    "        resultado = fibonacci_memoizacao(n - 1) + fibonacci_memoizacao(n - 2)\n",
    "            \n",
    "    memo_fib[n] = resultado # Armazena o resultado\n",
    "    return resultado\n",
    "\n",
    "# Testando\n",
    "print(f\"Fibonacci (Memoização) de 10: {fibonacci_memoizacao(10)}\") # Saída: 55\n",
    "print(f\"Fibonacci (Memoização) de 30: {fibonacci_memoizacao(30)}\") \n",
    "print(f\"Fibonacci (Memoização) de 40: {fibonacci_memoizacao(40)}\")\n",
    "print(f\"Fibonacci (Memoização) de 50: {fibonacci_memoizacao(50)}\") # Muito mais rápido que recursivo puro"
   ]
  },
  {
   "cell_type": "markdown",
   "id": "89278df6",
   "metadata": {},
   "source": [
    "* **Abordagem 2: Tabulação (Bottom-Up)**\n",
    "    * **Explicação:** Resolve o problema \"de baixo para cima\". Começa resolvendo os menores subproblemas e usa seus resultados para construir soluções para subproblemas maiores, até resolver o problema original. Geralmente usa uma tabela (lista/array) para armazenar os resultados dos subproblemas.\n",
    "    "
   ]
  },
  {
   "cell_type": "code",
   "execution_count": 20,
   "id": "faff09b1",
   "metadata": {},
   "outputs": [
    {
     "name": "stdout",
     "output_type": "stream",
     "text": [
      "Fibonacci (Tabulação) de 10: 55\n",
      "Fibonacci (Tabulação) de 30: 832040\n",
      "Fibonacci (Tabulação) de 40: 102334155\n"
     ]
    }
   ],
   "source": [
    "def fibonacci_tabulacao(n):\n",
    "    if n <= 0:\n",
    "        return 0\n",
    "    if n == 1:\n",
    "        return 1\n",
    "    # Cria uma tabela para armazenar os resultados de Fibonacci\n",
    "    # dp[i] vai armazenar fib(i)\n",
    "    dp = [0] * (n + 1)\n",
    "    dp[0] = 0\n",
    "    dp[1] = 1\n",
    "    \n",
    "    for i in range(2, n + 1):\n",
    "        dp[i] = dp[i - 1] + dp[i - 2]\n",
    "        \n",
    "    return dp[n]\n",
    "\n",
    "# Testando\n",
    "print(f\"Fibonacci (Tabulação) de 10: {fibonacci_tabulacao(10)}\") # Saída: 55\n",
    "print(f\"Fibonacci (Tabulação) de 30: {fibonacci_tabulacao(30)}\")\n",
    "print(f\"Fibonacci (Tabulação) de 40: {fibonacci_tabulacao(40)}\")"
   ]
  },
  {
   "cell_type": "markdown",
   "id": "fe8eea99",
   "metadata": {},
   "source": [
    "\n",
    "### Parte 3.3: Exemplo Adicional Simples: Subida de Escada (15 min)\n",
    "\n",
    "* **Problema:** Você está no pé de uma escada com `N` degraus. Você pode subir 1 ou 2 degraus de cada vez. De quantas maneiras distintas você pode chegar ao topo da escada?\n",
    "* **Lógica de PD:**\n",
    "    * Seja `maneiras(i)` o número de formas de chegar ao degrau `i`.\n",
    "    * Para chegar ao degrau `i`, você pode ter vindo do degrau `i-1` (dando 1 passo) OU do degrau `i-2` (dando 2 passos).\n",
    "    * Portanto, `maneiras(i) = maneiras(i-1) + maneiras(i-2)`. (Similar a Fibonacci!)\n",
    "    * **Casos Base:** `maneiras(0) = 1` (uma forma de estar no chão - não dar passos), `maneiras(1) = 1` (um passo de 1). Ou, `maneiras(1)=1`, `maneiras(2)=2`."
   ]
  },
  {
   "cell_type": "code",
   "execution_count": 22,
   "id": "f05e874d",
   "metadata": {},
   "outputs": [
    {
     "name": "stdout",
     "output_type": "stream",
     "text": [
      "Número de maneiras de subir 4 degraus: 5\n",
      "Número de maneiras de subir 10 degraus: 89\n"
     ]
    }
   ],
   "source": [
    "def contar_maneiras_subir_escada(n_degraus):\n",
    "        if n_degraus <= 0:\n",
    "            return 0\n",
    "        if n_degraus == 1:\n",
    "            return 1\n",
    "        if n_degraus == 2:\n",
    "            return 2 # (1,1) ou (2)\n",
    "\n",
    "        # dp[i] armazena o número de maneiras de alcançar o degrau i\n",
    "        dp = [0] * (n_degraus + 1)\n",
    "        # dp[0] = 1 # Uma forma de estar no \"degrau 0\" (ponto de partida)\n",
    "        dp[1] = 1 # Degrau 1: Apenas (1)\n",
    "        dp[2] = 2 # Degrau 2: (1,1) ou (2)\n",
    "\n",
    "        for i in range(3, n_degraus + 1):\n",
    "            dp[i] = dp[i - 1] + dp[i - 2]\n",
    "        \n",
    "        return dp[n_degraus]\n",
    "\n",
    "# Testando\n",
    "print(f\"Número de maneiras de subir 4 degraus: {contar_maneiras_subir_escada(4)}\") # Saída: 5\n",
    "    # (1,1,1,1), (1,1,2), (1,2,1), (2,1,1), (2,2)\n",
    "print(f\"Número de maneiras de subir 10 degraus: {contar_maneiras_subir_escada(10)}\")"
   ]
  },
  {
   "cell_type": "markdown",
   "id": "eedb4707",
   "metadata": {},
   "source": [
    "## Módulo 4: Algoritmos Gulosos (Aproximadamente 40 minutos)\n",
    "\n",
    "### Parte 4.1: O que são Algoritmos Gulosos? (10 min)\n",
    "\n",
    "* **Explicação:** Um algoritmo guloso (greedy algorithm) constrói uma solução passo a passo. Em cada passo, ele faz a escolha que parece ser a melhor **naquele momento** (localmente ótima), sem se preocupar com as consequências futuras dessa escolha.\n",
    "* **Características:**\n",
    "    * **Escolha Localmente Ótima:** A decisão é baseada na informação disponível no momento, visando o maior ganho imediato.\n",
    "    * **Irreversível:** Uma vez que uma escolha é feita, ela não é reconsiderada.\n",
    "* **Quando Funcionam?** Algoritmos gulosos não garantem a solução ótima global para todos os problemas. No entanto, para certos problemas (aqueles com a \"propriedade da escolha gulosa\" e \"subestrutura ótima\"), eles são eficientes e produzem a solução ótima.\n",
    "* **Analogia:** Ao dar um troco, você instintivamente tenta usar a maior moeda possível que não exceda o valor restante.\n",
    "\n",
    "### Parte 4.2: Exemplo 1: Problema do Troco (Coin Change) (15 min)\n",
    "\n",
    "* **Problema:** Dado um conjunto de denominações de moedas (ex: `[1, 5, 10, 25]` centavos) e um valor de troco, encontre o número mínimo de moedas para dar esse troco.\n",
    "* **Estratégia Gulosa:** Em cada etapa, pegar a maior denominação de moeda que seja menor ou igual ao valor restante do troco.\n"
   ]
  },
  {
   "cell_type": "code",
   "execution_count": 23,
   "id": "8ddfba2c",
   "metadata": {},
   "outputs": [
    {
     "name": "stdout",
     "output_type": "stream",
     "text": [
      "Para R$0.63, usar 6 moedas: [25, 25, 10, 1, 1, 1]\n",
      "\n",
      "Teste com moedas [1, 3, 4] para troco 6:\n",
      "Abordagem Gulosa: 3 moedas: [4, 1, 1]\n",
      "Solução Ótima (não pelo guloso aqui): 2 moedas: [3, 3]\n"
     ]
    }
   ],
   "source": [
    "def troco_guloso(moedas_disponiveis, valor_troco):\n",
    "    moedas_disponiveis.sort(reverse=True) # Ordena as moedas da maior para a menor\n",
    "    num_moedas = 0\n",
    "    moedas_usadas = []\n",
    "\n",
    "    for moeda in moedas_disponiveis:\n",
    "        while valor_troco >= moeda:\n",
    "                valor_troco -= moeda\n",
    "                moedas_usadas.append(moeda)\n",
    "                num_moedas += 1\n",
    "        \n",
    "    if valor_troco == 0:\n",
    "        return num_moedas, moedas_usadas\n",
    "    else:\n",
    "            # Não foi possível dar o troco exato (raro com moeda de 1,\n",
    "            # mas pode acontecer se não houver moeda de valor 1)\n",
    "        return -1, [] \n",
    "# Testando\n",
    "moedas = [1, 5, 10, 25]\n",
    "troco = 63\n",
    "qtd, usadas = troco_guloso(list(moedas), troco) \n",
    "if qtd != -1:\n",
    "    print(f\"Para R${troco/100:.2f}, usar {qtd} moedas: {usadas}\") \n",
    "else:\n",
    "    print(f\"Não foi possível dar o troco de R${troco/100:.2f} com as moedas fornecidas.\")\n",
    "# Saída: Para R$0.63, usar 6 moedas: [25, 25, 10, 1, 1, 1]\n",
    "\n",
    "# Caso onde o guloso pode falhar (se o conjunto de moedas for específico)\n",
    "moedas_teste = [1, 3, 4] # Sem a moeda de 2, por exemplo\n",
    "troco_teste = 6\n",
    "# Guloso com [1,3,4] para 6: 4 + 1 + 1 (3 moedas)\n",
    "# Ótimo para 6 com [1,3,4]: 3 + 3 (2 moedas)\n",
    "print(f\"\\nTeste com moedas {moedas_teste} para troco {troco_teste}:\")\n",
    "qtd_t, usadas_t = troco_guloso(list(moedas_teste), troco_teste)\n",
    "if qtd_t != -1:\n",
    "    print(f\"Abordagem Gulosa: {qtd_t} moedas: {usadas_t}\")\n",
    "print(f\"Solução Ótima (não pelo guloso aqui): 2 moedas: [3, 3]\")"
   ]
  },
  {
   "cell_type": "markdown",
   "id": "0c811826",
   "metadata": {},
   "source": [
    "* **Discussão:** Enfatizar que, para o sistema monetário padrão (com moedas como 1, 5, 10, 25, 50, 100), a abordagem gulosa geralmente funciona. No entanto, mostrar o exemplo onde ela falha é crucial para entender as limitações dos algoritmos gulosos.\n",
    "\n",
    "### Parte 4.3: Exemplo 2: Problema da Mochila Fracionária (Fractional Knapsack) (15 min)\n",
    "\n",
    "* **Problema:** Um ladrão tem uma mochila com capacidade máxima de peso `W`. Existem `n` itens, cada um com um `valor` e um `peso`. O ladrão pode pegar frações de itens. O objetivo é maximizar o valor total dos itens na mochila sem exceder a capacidade `W`.\n",
    "* **Estratégia Gulosa:**\n",
    "    1.  Calcular a razão `valor/peso` para cada item. Essa razão representa o \"valor por unidade de peso\".\n",
    "    2.  Ordenar os itens em ordem decrescente dessa razão.\n",
    "    3.  Pegar os itens (ou frações deles) com a maior razão `valor/peso` primeiro, até que a mochila esteja cheia ou não haja mais itens.\n",
    "  \n"
   ]
  },
  {
   "cell_type": "code",
   "execution_count": 24,
   "id": "ea3d522f",
   "metadata": {},
   "outputs": [
    {
     "name": "stdout",
     "output_type": "stream",
     "text": [
      "\n",
      "Itens ordenados por razão valor/peso:\n",
      "  Item A: Valor=60, Peso=10, Razão=6.00\n",
      "  Item B: Valor=100, Peso=20, Razão=5.00\n",
      "  Item C: Valor=120, Peso=30, Razão=4.00\n",
      "\n",
      "Capacidade da mochila: 50\n",
      "Pegou item A inteiro: Valor=60, Peso=10. Peso atual: 10.0\n",
      "Pegou item B inteiro: Valor=100, Peso=20. Peso atual: 30.0\n",
      "Pegou 66.67% do item C: Valor adicionado=80.00, Peso adicionado=20.0. Peso atual: 50.0\n",
      "\n",
      "Itens na mochila:\n",
      "  Item A: Peso pego=10.00, Valor pego=60.00 (Fração: 100.00%)\n",
      "  Item B: Peso pego=20.00, Valor pego=100.00 (Fração: 100.00%)\n",
      "  Item C: Peso pego=20.00, Valor pego=80.00 (Fração: 66.67%)\n",
      "\n",
      "Valor máximo na mochila fracionária: 240.00\n"
     ]
    }
   ],
   "source": [
    "def mochila_fracionaria(capacidade, itens_lista):\n",
    "    # itens_lista é uma lista de dicionários, cada um com 'id', 'valor', 'peso'\n",
    "    # 1. Calcular a razão valor/peso para cada item e adicionar ao dicionário do item\n",
    "    for item in itens_lista:\n",
    "        if item['peso'] == 0: # Evitar divisão por zero se o peso for 0\n",
    "            item['razao'] = float('inf') if item['valor'] > 0 else 0\n",
    "        else:\n",
    "            item['razao'] = item['valor'] / item['peso']\n",
    "\n",
    "    # 2. Ordenar os itens pela razão em ordem decrescente\n",
    "    itens_lista.sort(key=lambda x: x['razao'], reverse=True)\n",
    "\n",
    "    valor_total_na_mochila = 0.0\n",
    "    peso_atual_na_mochila = 0.0\n",
    "    itens_na_mochila = [] # Para rastrear o que foi pego\n",
    "\n",
    "    print(\"\\nItens ordenados por razão valor/peso:\")\n",
    "    for item in itens_lista:\n",
    "        print(f\"  Item {item.get('id', '')}: Valor={item['valor']}, Peso={item['peso']}, Razão={item['razao']:.2f}\")\n",
    "\n",
    "    print(f\"\\nCapacidade da mochila: {capacidade}\")\n",
    "    for item in itens_lista:\n",
    "        if peso_atual_na_mochila + item['peso'] <= capacidade:\n",
    "            # Pega o item inteiro\n",
    "            peso_atual_na_mochila += item['peso']\n",
    "            valor_total_na_mochila += item['valor']\n",
    "            itens_na_mochila.append((item.get('id', ''), item['peso'], item['valor'], 1.0)) # 1.0 para fração = 100%\n",
    "            print(f\"Pegou item {item.get('id', '')} inteiro: Valor={item['valor']}, Peso={item['peso']}. Peso atual: {peso_atual_na_mochila}\")\n",
    "        else:\n",
    "            # Pega uma fração do item para encher a mochila\n",
    "            peso_restante_mochila = capacidade - peso_atual_na_mochila\n",
    "            if peso_restante_mochila > 0 and item['peso'] > 0: # Só pega fração se houver espaço e o item tiver peso\n",
    "                fracao_a_pegar = peso_restante_mochila / item['peso']\n",
    "                valor_adicionado = item['valor'] * fracao_a_pegar\n",
    "                valor_total_na_mochila += valor_adicionado\n",
    "                peso_atual_na_mochila += peso_restante_mochila \n",
    "                itens_na_mochila.append((item.get('id', ''), peso_restante_mochila, valor_adicionado, fracao_a_pegar))\n",
    "                print(f\"Pegou {fracao_a_pegar*100:.2f}% do item {item.get('id', '')}: Valor adicionado={valor_adicionado:.2f}, Peso adicionado={peso_restante_mochila}. Peso atual: {peso_atual_na_mochila}\")\n",
    "            break # Mochila está cheia ou não pode pegar mais nada\n",
    "    \n",
    "    print(\"\\nItens na mochila:\")\n",
    "    for id_item, peso_pego, valor_pego, fracao in itens_na_mochila:\n",
    "        print(f\"  Item {id_item}: Peso pego={peso_pego:.2f}, Valor pego={valor_pego:.2f} (Fração: {fracao*100:.2f}%)\")\n",
    "    return valor_total_na_mochila\n",
    "\n",
    "# Testando\n",
    "itens_exemplo = [\n",
    "    {'id': 'A', 'valor': 60, 'peso': 10}, \n",
    "    {'id': 'B', 'valor': 100, 'peso': 20}, \n",
    "    {'id': 'C', 'valor': 120, 'peso': 30}\n",
    "]\n",
    "capacidade_total_mochila = 50\n",
    "max_valor_obtido = mochila_fracionaria(capacidade_total_mochila, list(itens_exemplo)) # Passa cópia\n",
    "print(f\"\\nValor máximo na mochila fracionária: {max_valor_obtido:.2f}\")\n",
    "# Saída esperada para o exemplo: 240.00\n",
    "# Item A: v=60, p=10, r=6\n",
    "# Item B: v=100, p=20, r=5\n",
    "# Item C: v=120, p=30, r=4\n",
    "# Ordem: A, B, C\n",
    "# Pega A (10kg, $60). Mochila: p=10, v=60. Capacidade restante: 40kg.\n",
    "# Pega B (20kg, $100). Mochila: p=10+20=30, v=60+100=160. Capacidade restante: 20kg.\n",
    "# Pega 20/30 de C. Peso adicionado = 20kg. Valor adicionado = 120 * (20/30) = $80.\n",
    "# Mochila: p=30+20=50, v=160+80=240."
   ]
  },
  {
   "cell_type": "markdown",
   "id": "dd7623f3",
   "metadata": {},
   "source": [
    "* **Nota:** A abordagem gulosa funciona para a mochila fracionária, mas não para o problema da mochila 0/1 (onde você não pode pegar frações de itens – este último geralmente requer Programação Dinâmica)."
   ]
  },
  {
   "cell_type": "markdown",
   "id": "e64a1cf6",
   "metadata": {},
   "source": [
    "* **Recapitulação:** Revisitar brevemente as quatro técnicas abordadas:\n",
    "    * **Recursão:** Função que chama a si mesma; caso base e passo recursivo. Vantagens em clareza para certos problemas, desvantagens em performance e uso de memória.\n",
    "    * **Dividir e Conquistar:** Dividir o problema, conquistar subproblemas recursivamente, combinar soluções. Ex: Merge Sort, Pesquisa Binária.\n",
    "    * **Programação Dinâmica:** Otimização para problemas com subproblemas sobrepostos e subestrutura ótima. Resolve cada subproblema uma vez, armazenando resultados (memoização ou tabulação). Ex: Fibonacci otimizado.\n",
    "    * **Algoritmos Gulosos:** Fazer escolhas localmente ótimas na esperança de uma solução global ótima. Rápido e simples, mas não funciona para todos os problemas. Ex: Mochila Fracionária, Troco (com ressalvas)."
   ]
  },
  {
   "cell_type": "markdown",
   "id": "a42caa6d",
   "metadata": {},
   "source": []
  }
 ],
 "metadata": {
  "kernelspec": {
   "display_name": "3.13.3",
   "language": "python",
   "name": "python3"
  },
  "language_info": {
   "codemirror_mode": {
    "name": "ipython",
    "version": 3
   },
   "file_extension": ".py",
   "mimetype": "text/x-python",
   "name": "python",
   "nbconvert_exporter": "python",
   "pygments_lexer": "ipython3",
   "version": "3.13.3"
  }
 },
 "nbformat": 4,
 "nbformat_minor": 5
}
